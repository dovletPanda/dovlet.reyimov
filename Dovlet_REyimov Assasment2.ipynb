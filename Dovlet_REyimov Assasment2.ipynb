{
 "cells": [
  {
   "cell_type": "markdown",
   "id": "e49d76a6",
   "metadata": {},
   "source": [
    "### Import Library"
   ]
  },
  {
   "cell_type": "code",
   "execution_count": 400,
   "id": "6cdae195",
   "metadata": {},
   "outputs": [],
   "source": [
    "import pandas as pd \n",
    "import numpy as np \n",
    "import seaborn as sns \n",
    "import matplotlib.pyplot as plt\n",
    "import scipy.stats as stats\n",
    "import math\n",
    "from sklearn.model_selection import train_test_split\n",
    "from sklearn.preprocessing import StandardScaler\n",
    "from sklearn.tree import DecisionTreeClassifier\n",
    "from sklearn.metrics import classification_report, confusion_matrix\n",
    "from sklearn import metrics\n",
    "import warnings\n",
    "from sklearn.linear_model import LinearRegression\n",
    "import statsmodels.api as sm \n",
    "from sklearn.preprocessing import StandardScaler\n",
    "import scipy.stats as stats\n",
    "from scipy.stats import wilcoxon\n",
    "from statsmodels.stats.weightstats import ztest\n"
   ]
  },
  {
   "cell_type": "markdown",
   "id": "ad65018e",
   "metadata": {},
   "source": [
    "### Import Data"
   ]
  },
  {
   "cell_type": "code",
   "execution_count": 401,
   "id": "a1660212",
   "metadata": {},
   "outputs": [],
   "source": [
    "Persons= pd.read_csv('Persons.csv')\n",
    "Persons_Germany = Persons.iloc[:,2:3]\n",
    "Persons_Ireland = Persons.iloc[:,5:6]\n",
    "Persons_Luxembourg = Persons.iloc[:,8:9]"
   ]
  },
  {
   "cell_type": "code",
   "execution_count": 402,
   "id": "1ffc8ba5",
   "metadata": {},
   "outputs": [],
   "source": [
    "Land_data= pd.read_csv('Land_data.csv')\n",
    "Land_data.head()\n",
    "\n",
    "Germany_hectares = Land_data.iloc[:,2:3]\n",
    "Ireland_hectares = Land_data.iloc[:,5:6]\n",
    "Luxembourg_hectares = Land_data.iloc[:,8:9]"
   ]
  },
  {
   "cell_type": "code",
   "execution_count": 403,
   "id": "e3ac2810",
   "metadata": {},
   "outputs": [],
   "source": [
    "\n",
    "FAO_Germany = FAOSTAT_data.iloc[:,2:3]\n",
    "FAO_Ireland = FAOSTAT_data.iloc[:,5:6]\n",
    "FAO_Luxembourg = FAOSTAT_data.iloc[:,8:9]"
   ]
  },
  {
   "cell_type": "code",
   "execution_count": 404,
   "id": "997e14fc",
   "metadata": {},
   "outputs": [],
   "source": [
    "list_germany=[Persons_Germany,Germany_hectares,FAO_Germany]\n",
    "df_Germany = pd.concat((list_germany),axis=1)\n",
    "list_ireland=[Persons_Ireland,Ireland_hectares,FAO_Ireland]\n",
    "df_Ireland = pd.concat((list_ireland),axis=1)\n",
    "list_luxembourg= [Persons_Luxembourg,Luxembourg_hectares,FAO_Luxembourg]\n",
    "df_Luxembourg = pd.concat((list_luxembourg),axis=1)"
   ]
  },
  {
   "cell_type": "markdown",
   "id": "6f9fa7ff",
   "metadata": {},
   "source": [
    "### Describing and Exploring Data"
   ]
  },
  {
   "cell_type": "code",
   "execution_count": 405,
   "id": "173fded3",
   "metadata": {},
   "outputs": [
    {
     "data": {
      "text/html": [
       "<div>\n",
       "<style scoped>\n",
       "    .dataframe tbody tr th:only-of-type {\n",
       "        vertical-align: middle;\n",
       "    }\n",
       "\n",
       "    .dataframe tbody tr th {\n",
       "        vertical-align: top;\n",
       "    }\n",
       "\n",
       "    .dataframe thead th {\n",
       "        text-align: right;\n",
       "    }\n",
       "</style>\n",
       "<table border=\"1\" class=\"dataframe\">\n",
       "  <thead>\n",
       "    <tr style=\"text-align: right;\">\n",
       "      <th></th>\n",
       "      <th>Area</th>\n",
       "      <th>Year</th>\n",
       "      <th>Value</th>\n",
       "      <th>Area.1</th>\n",
       "      <th>Year.1</th>\n",
       "      <th>Value.1</th>\n",
       "      <th>Area.2</th>\n",
       "      <th>Year.2</th>\n",
       "      <th>Value.2</th>\n",
       "    </tr>\n",
       "  </thead>\n",
       "  <tbody>\n",
       "    <tr>\n",
       "      <th>0</th>\n",
       "      <td>Germany</td>\n",
       "      <td>2010</td>\n",
       "      <td>1709755</td>\n",
       "      <td>Ireland</td>\n",
       "      <td>2010</td>\n",
       "      <td>254794</td>\n",
       "      <td>Luxembourg</td>\n",
       "      <td>2010</td>\n",
       "      <td>7137</td>\n",
       "    </tr>\n",
       "    <tr>\n",
       "      <th>1</th>\n",
       "      <td>Germany</td>\n",
       "      <td>2011</td>\n",
       "      <td>2245973</td>\n",
       "      <td>Ireland</td>\n",
       "      <td>2011</td>\n",
       "      <td>372922</td>\n",
       "      <td>Luxembourg</td>\n",
       "      <td>2011</td>\n",
       "      <td>8611</td>\n",
       "    </tr>\n",
       "    <tr>\n",
       "      <th>2</th>\n",
       "      <td>Germany</td>\n",
       "      <td>2012</td>\n",
       "      <td>2750363</td>\n",
       "      <td>Ireland</td>\n",
       "      <td>2012</td>\n",
       "      <td>343886</td>\n",
       "      <td>Luxembourg</td>\n",
       "      <td>2012</td>\n",
       "      <td>9754</td>\n",
       "    </tr>\n",
       "    <tr>\n",
       "      <th>3</th>\n",
       "      <td>Germany</td>\n",
       "      <td>2013</td>\n",
       "      <td>2513116</td>\n",
       "      <td>Ireland</td>\n",
       "      <td>2013</td>\n",
       "      <td>365145</td>\n",
       "      <td>Luxembourg</td>\n",
       "      <td>2013</td>\n",
       "      <td>8292</td>\n",
       "    </tr>\n",
       "    <tr>\n",
       "      <th>4</th>\n",
       "      <td>Germany</td>\n",
       "      <td>2014</td>\n",
       "      <td>2331890</td>\n",
       "      <td>Ireland</td>\n",
       "      <td>2014</td>\n",
       "      <td>537874</td>\n",
       "      <td>Luxembourg</td>\n",
       "      <td>2014</td>\n",
       "      <td>7940</td>\n",
       "    </tr>\n",
       "  </tbody>\n",
       "</table>\n",
       "</div>"
      ],
      "text/plain": [
       "      Area  Year    Value   Area.1  Year.1  Value.1      Area.2  Year.2  \\\n",
       "0  Germany  2010  1709755  Ireland    2010   254794  Luxembourg    2010   \n",
       "1  Germany  2011  2245973  Ireland    2011   372922  Luxembourg    2011   \n",
       "2  Germany  2012  2750363  Ireland    2012   343886  Luxembourg    2012   \n",
       "3  Germany  2013  2513116  Ireland    2013   365145  Luxembourg    2013   \n",
       "4  Germany  2014  2331890  Ireland    2014   537874  Luxembourg    2014   \n",
       "\n",
       "   Value.2  \n",
       "0     7137  \n",
       "1     8611  \n",
       "2     9754  \n",
       "3     8292  \n",
       "4     7940  "
      ]
     },
     "execution_count": 405,
     "metadata": {},
     "output_type": "execute_result"
    }
   ],
   "source": [
    "FAOSTAT_data.head()"
   ]
  },
  {
   "cell_type": "code",
   "execution_count": 406,
   "id": "bc49cc16",
   "metadata": {},
   "outputs": [
    {
     "name": "stdout",
     "output_type": "stream",
     "text": [
      "Shape of Data..:\n",
      " (11, 9)\n"
     ]
    }
   ],
   "source": [
    "print(\"Shape of Data..:\\n\",FAOSTAT_data.shape)"
   ]
  },
  {
   "cell_type": "code",
   "execution_count": 407,
   "id": "b589d560",
   "metadata": {},
   "outputs": [
    {
     "name": "stdout",
     "output_type": "stream",
     "text": [
      "Columns in Datas are Types..:\n",
      " Area       object\n",
      "Year        int64\n",
      "Value       int64\n",
      "Area.1     object\n",
      "Year.1      int64\n",
      "Value.1     int64\n",
      "Area.2     object\n",
      "Year.2      int64\n",
      "Value.2     int64\n",
      "dtype: object\n"
     ]
    }
   ],
   "source": [
    "print(\"Columns in Datas are Types..:\\n\",FAOSTAT_data.dtypes)"
   ]
  },
  {
   "cell_type": "markdown",
   "id": "af09fde5",
   "metadata": {},
   "source": [
    "### Histplot\n",
    "I plotted a univariate or bivariate histogram to show the distributions of the datasets.\n",
    "\n",
    "The histogram is a classic visualization tool that represents the distribution of one or more variables by counting the number of observations that fall into separate boxes.\n",
    "\n",
    "This function can normalize the statistic calculated at each bin to estimate the frequency, density or probability mass and add a smooth curve obtained using a kernel density estimation like the one below."
   ]
  },
  {
   "cell_type": "code",
   "execution_count": 408,
   "id": "56e3eb07",
   "metadata": {},
   "outputs": [
    {
     "data": {
      "image/png": "[encoded data removed]",
      "text/plain": [
       "<Figure size 640x480 with 1 Axes>"
      ]
     },
     "metadata": {},
     "output_type": "display_data"
    }
   ],
   "source": [
    "sns.histplot(FAOSTAT_data);"
   ]
  },
  {
   "cell_type": "markdown",
   "id": "db86ece0",
   "metadata": {},
   "source": [
    "### seaborn.boxplot\n",
    "I drew a box plot to show the distributions by category.\n",
    "\n",
    "A boxplot (or box and whisker plot) shows the distribution of quantitative data across variables or levels of a categorical variable in a way that facilitates comparisons. The box shows the quartiles of the dataset, while the horizontal lines expand to show the rest of the distribution, except for the points identified as \"outliers\" using a method that is a function of interquartile range.\n",
    "The Pandas library plays a pretty important role.\n",
    "  I visualized the combat stats of all Pokémon using a boxplot.\n"
   ]
  },
  {
   "cell_type": "code",
   "execution_count": 409,
   "id": "2c07b171",
   "metadata": {},
   "outputs": [
    {
     "data": {
      "text/plain": [
       "<AxesSubplot:>"
      ]
     },
     "execution_count": 409,
     "metadata": {},
     "output_type": "execute_result"
    },
    {
     "data": {
      "image/png": "[encoded data removed]",
      "text/plain": [
       "<Figure size 640x480 with 1 Axes>"
      ]
     },
     "metadata": {},
     "output_type": "display_data"
    }
   ],
   "source": [
    "sns.boxplot(data = FAOSTAT_data)"
   ]
  },
  {
   "cell_type": "markdown",
   "id": "47a22f43",
   "metadata": {},
   "source": [
    "I used a ton of variables without changing the box width or position:"
   ]
  },
  {
   "cell_type": "markdown",
   "id": "2aa6ff35",
   "metadata": {},
   "source": [
    "### Heat Map\n",
    "I visualized heatmaps in matrix style FAO_data.\n",
    "I plotted rectangular data as a color-coded matrix.\n",
    "This is an Axis level function and will plot the heatmap to the currently active\n",
    "Axes if none is supplied to the ax argument. \n",
    "Unless cbar is False or a separate Axes is provided to cbar_ax,\n",
    "part of this Axes field will be taken and used to draw a colormap."
   ]
  },
  {
   "cell_type": "code",
   "execution_count": 410,
   "id": "1f9a8998",
   "metadata": {},
   "outputs": [
    {
     "data": {
      "text/plain": [
       "<AxesSubplot:>"
      ]
     },
     "execution_count": 410,
     "metadata": {},
     "output_type": "execute_result"
    },
    {
     "data": {
      "image/png": "[encoded data removed]",
      "text/plain": [
       "<Figure size 640x480 with 2 Axes>"
      ]
     },
     "metadata": {},
     "output_type": "display_data"
    }
   ],
   "source": [
    "corr = FAOSTAT_data.corr()\n",
    "\n",
    "sns.heatmap(corr)"
   ]
  },
  {
   "cell_type": "code",
   "execution_count": 411,
   "id": "15d94d22",
   "metadata": {},
   "outputs": [
    {
     "name": "stdout",
     "output_type": "stream",
     "text": [
      "Columns in Data..:\n",
      " Index(['Area', 'Year', 'Hectares', 'Area.1', 'Year.1', 'Hectares.1', 'Area.2',\n",
      "       'Year.2', 'Hectares.2'],\n",
      "      dtype='object')\n"
     ]
    }
   ],
   "source": [
    "print(\"Columns in Data..:\\n\",Land_data.columns)"
   ]
  },
  {
   "cell_type": "code",
   "execution_count": 412,
   "id": "8a9f9ec6",
   "metadata": {},
   "outputs": [
    {
     "name": "stdout",
     "output_type": "stream",
     "text": [
      "Shape of Data..:\n",
      " (11, 9)\n"
     ]
    }
   ],
   "source": [
    "print(\"Shape of Data..:\\n\",Land_data.shape)"
   ]
  },
  {
   "cell_type": "code",
   "execution_count": 413,
   "id": "6cf7434b",
   "metadata": {},
   "outputs": [
    {
     "name": "stdout",
     "output_type": "stream",
     "text": [
      "Columns in Datas are Types..:\n",
      " Area           object\n",
      "Year            int64\n",
      "Hectares        int64\n",
      "Area.1         object\n",
      "Year.1          int64\n",
      "Hectares.1      int64\n",
      "Area.2         object\n",
      "Year.2          int64\n",
      "Hectares.2    float64\n",
      "dtype: object\n"
     ]
    }
   ],
   "source": [
    "print(\"Columns in Datas are Types..:\\n\",Land_data.dtypes)"
   ]
  },
  {
   "cell_type": "code",
   "execution_count": 414,
   "id": "46539970",
   "metadata": {},
   "outputs": [
    {
     "data": {
      "text/html": [
       "<div>\n",
       "<style scoped>\n",
       "    .dataframe tbody tr th:only-of-type {\n",
       "        vertical-align: middle;\n",
       "    }\n",
       "\n",
       "    .dataframe tbody tr th {\n",
       "        vertical-align: top;\n",
       "    }\n",
       "\n",
       "    .dataframe thead th {\n",
       "        text-align: right;\n",
       "    }\n",
       "</style>\n",
       "<table border=\"1\" class=\"dataframe\">\n",
       "  <thead>\n",
       "    <tr style=\"text-align: right;\">\n",
       "      <th></th>\n",
       "      <th>Area</th>\n",
       "      <th>Year</th>\n",
       "      <th>Hectares</th>\n",
       "      <th>Area.1</th>\n",
       "      <th>Year.1</th>\n",
       "      <th>Hectares.1</th>\n",
       "      <th>Area.2</th>\n",
       "      <th>Year.2</th>\n",
       "      <th>Hectares.2</th>\n",
       "    </tr>\n",
       "  </thead>\n",
       "  <tbody>\n",
       "    <tr>\n",
       "      <th>0</th>\n",
       "      <td>Germany</td>\n",
       "      <td>2010</td>\n",
       "      <td>16700</td>\n",
       "      <td>Ireland</td>\n",
       "      <td>2010</td>\n",
       "      <td>4568</td>\n",
       "      <td>Luxembourg</td>\n",
       "      <td>2010</td>\n",
       "      <td>131.04</td>\n",
       "    </tr>\n",
       "    <tr>\n",
       "      <th>1</th>\n",
       "      <td>Germany</td>\n",
       "      <td>2011</td>\n",
       "      <td>16719</td>\n",
       "      <td>Ireland</td>\n",
       "      <td>2011</td>\n",
       "      <td>4555</td>\n",
       "      <td>Luxembourg</td>\n",
       "      <td>2011</td>\n",
       "      <td>131.27</td>\n",
       "    </tr>\n",
       "    <tr>\n",
       "      <th>2</th>\n",
       "      <td>Germany</td>\n",
       "      <td>2012</td>\n",
       "      <td>16664</td>\n",
       "      <td>Ireland</td>\n",
       "      <td>2012</td>\n",
       "      <td>4533</td>\n",
       "      <td>Luxembourg</td>\n",
       "      <td>2012</td>\n",
       "      <td>131.42</td>\n",
       "    </tr>\n",
       "    <tr>\n",
       "      <th>3</th>\n",
       "      <td>Germany</td>\n",
       "      <td>2013</td>\n",
       "      <td>16697</td>\n",
       "      <td>Ireland</td>\n",
       "      <td>2013</td>\n",
       "      <td>4477</td>\n",
       "      <td>Luxembourg</td>\n",
       "      <td>2013</td>\n",
       "      <td>130.88</td>\n",
       "    </tr>\n",
       "    <tr>\n",
       "      <th>4</th>\n",
       "      <td>Germany</td>\n",
       "      <td>2014</td>\n",
       "      <td>16725</td>\n",
       "      <td>Ireland</td>\n",
       "      <td>2014</td>\n",
       "      <td>4466</td>\n",
       "      <td>Luxembourg</td>\n",
       "      <td>2014</td>\n",
       "      <td>130.99</td>\n",
       "    </tr>\n",
       "  </tbody>\n",
       "</table>\n",
       "</div>"
      ],
      "text/plain": [
       "      Area  Year  Hectares   Area.1  Year.1  Hectares.1      Area.2  Year.2  \\\n",
       "0  Germany  2010     16700  Ireland    2010        4568  Luxembourg    2010   \n",
       "1  Germany  2011     16719  Ireland    2011        4555  Luxembourg    2011   \n",
       "2  Germany  2012     16664  Ireland    2012        4533  Luxembourg    2012   \n",
       "3  Germany  2013     16697  Ireland    2013        4477  Luxembourg    2013   \n",
       "4  Germany  2014     16725  Ireland    2014        4466  Luxembourg    2014   \n",
       "\n",
       "   Hectares.2  \n",
       "0      131.04  \n",
       "1      131.27  \n",
       "2      131.42  \n",
       "3      130.88  \n",
       "4      130.99  "
      ]
     },
     "execution_count": 414,
     "metadata": {},
     "output_type": "execute_result"
    }
   ],
   "source": [
    "Land_data.head()"
   ]
  },
  {
   "cell_type": "code",
   "execution_count": 415,
   "id": "b8fd3d53",
   "metadata": {},
   "outputs": [
    {
     "data": {
      "image/png": "[encoded data removed]",
      "text/plain": [
       "<Figure size 640x480 with 1 Axes>"
      ]
     },
     "metadata": {},
     "output_type": "display_data"
    }
   ],
   "source": [
    "sns.histplot(Land_data);"
   ]
  },
  {
   "cell_type": "code",
   "execution_count": 416,
   "id": "fafc9651",
   "metadata": {},
   "outputs": [
    {
     "data": {
      "text/plain": [
       "<AxesSubplot:>"
      ]
     },
     "execution_count": 416,
     "metadata": {},
     "output_type": "execute_result"
    },
    {
     "data": {
      "image/png": "[encoded data removed]",
      "text/plain": [
       "<Figure size 640x480 with 1 Axes>"
      ]
     },
     "metadata": {},
     "output_type": "display_data"
    }
   ],
   "source": [
    "sns.boxplot(data = Land_data)"
   ]
  },
  {
   "cell_type": "code",
   "execution_count": 417,
   "id": "54a832a1",
   "metadata": {},
   "outputs": [
    {
     "data": {
      "text/plain": [
       "<AxesSubplot:>"
      ]
     },
     "execution_count": 417,
     "metadata": {},
     "output_type": "execute_result"
    },
    {
     "data": {
      "image/png": "[encoded data removed]",
      "text/plain": [
       "<Figure size 640x480 with 2 Axes>"
      ]
     },
     "metadata": {},
     "output_type": "display_data"
    }
   ],
   "source": [
    "corr = Land_data.corr()\n",
    "\n",
    "sns.heatmap(corr)"
   ]
  },
  {
   "cell_type": "code",
   "execution_count": 418,
   "id": "fc76f351",
   "metadata": {},
   "outputs": [
    {
     "data": {
      "text/html": [
       "<div>\n",
       "<style scoped>\n",
       "    .dataframe tbody tr th:only-of-type {\n",
       "        vertical-align: middle;\n",
       "    }\n",
       "\n",
       "    .dataframe tbody tr th {\n",
       "        vertical-align: top;\n",
       "    }\n",
       "\n",
       "    .dataframe thead th {\n",
       "        text-align: right;\n",
       "    }\n",
       "</style>\n",
       "<table border=\"1\" class=\"dataframe\">\n",
       "  <thead>\n",
       "    <tr style=\"text-align: right;\">\n",
       "      <th></th>\n",
       "      <th>Year</th>\n",
       "      <th>Barley</th>\n",
       "      <th>Wheat</th>\n",
       "      <th>Potatoes</th>\n",
       "    </tr>\n",
       "  </thead>\n",
       "  <tbody>\n",
       "    <tr>\n",
       "      <th>0</th>\n",
       "      <td>2010</td>\n",
       "      <td>1709755</td>\n",
       "      <td>4725090</td>\n",
       "      <td>2230136</td>\n",
       "    </tr>\n",
       "    <tr>\n",
       "      <th>1</th>\n",
       "      <td>2011</td>\n",
       "      <td>2245973</td>\n",
       "      <td>6555489</td>\n",
       "      <td>2961768</td>\n",
       "    </tr>\n",
       "    <tr>\n",
       "      <th>2</th>\n",
       "      <td>2012</td>\n",
       "      <td>2750363</td>\n",
       "      <td>6305585</td>\n",
       "      <td>1781483</td>\n",
       "    </tr>\n",
       "    <tr>\n",
       "      <th>3</th>\n",
       "      <td>2013</td>\n",
       "      <td>2513116</td>\n",
       "      <td>6743066</td>\n",
       "      <td>3171025</td>\n",
       "    </tr>\n",
       "    <tr>\n",
       "      <th>4</th>\n",
       "      <td>2014</td>\n",
       "      <td>2331890</td>\n",
       "      <td>6230084</td>\n",
       "      <td>2371665</td>\n",
       "    </tr>\n",
       "  </tbody>\n",
       "</table>\n",
       "</div>"
      ],
      "text/plain": [
       "   Year   Barley    Wheat  Potatoes\n",
       "0  2010  1709755  4725090   2230136\n",
       "1  2011  2245973  6555489   2961768\n",
       "2  2012  2750363  6305585   1781483\n",
       "3  2013  2513116  6743066   3171025\n",
       "4  2014  2331890  6230084   2371665"
      ]
     },
     "execution_count": 418,
     "metadata": {},
     "output_type": "execute_result"
    }
   ],
   "source": [
    "Germany = pd.read_csv('Germany_data.csv')\n",
    "Germany.head()"
   ]
  },
  {
   "cell_type": "code",
   "execution_count": 419,
   "id": "7e99c3d0",
   "metadata": {},
   "outputs": [
    {
     "name": "stdout",
     "output_type": "stream",
     "text": [
      "Columns in Data..:\n",
      " Index(['Year', 'Barley', 'Wheat', 'Potatoes'], dtype='object')\n"
     ]
    }
   ],
   "source": [
    "print(\"Columns in Data..:\\n\",Germany.columns)"
   ]
  },
  {
   "cell_type": "code",
   "execution_count": 420,
   "id": "d1e382e8",
   "metadata": {},
   "outputs": [
    {
     "name": "stdout",
     "output_type": "stream",
     "text": [
      "Shape of Data..:\n",
      " (11, 4)\n"
     ]
    }
   ],
   "source": [
    "print(\"Shape of Data..:\\n\",Germany.shape)"
   ]
  },
  {
   "cell_type": "code",
   "execution_count": 421,
   "id": "bc39b4e6",
   "metadata": {},
   "outputs": [
    {
     "name": "stdout",
     "output_type": "stream",
     "text": [
      "Columns in Datas are Types..:\n",
      " Year        int64\n",
      "Barley      int64\n",
      "Wheat       int64\n",
      "Potatoes    int64\n",
      "dtype: object\n"
     ]
    }
   ],
   "source": [
    "print(\"Columns in Datas are Types..:\\n\",Germany.dtypes)"
   ]
  },
  {
   "cell_type": "code",
   "execution_count": 422,
   "id": "7953a78b",
   "metadata": {},
   "outputs": [
    {
     "data": {
      "image/png": "[encoded data removed]",
      "text/plain": [
       "<Figure size 640x480 with 1 Axes>"
      ]
     },
     "metadata": {},
     "output_type": "display_data"
    }
   ],
   "source": [
    "sns.histplot(Germany);"
   ]
  },
  {
   "cell_type": "code",
   "execution_count": 423,
   "id": "7decb83b",
   "metadata": {},
   "outputs": [
    {
     "data": {
      "text/plain": [
       "<AxesSubplot:>"
      ]
     },
     "execution_count": 423,
     "metadata": {},
     "output_type": "execute_result"
    },
    {
     "data": {
      "image/png": "[encoded data removed]",
      "text/plain": [
       "<Figure size 640x480 with 1 Axes>"
      ]
     },
     "metadata": {},
     "output_type": "display_data"
    }
   ],
   "source": [
    "sns.boxplot(data = Germany)"
   ]
  },
  {
   "cell_type": "code",
   "execution_count": 424,
   "id": "20a5c956",
   "metadata": {},
   "outputs": [
    {
     "data": {
      "text/plain": [
       "<AxesSubplot:>"
      ]
     },
     "execution_count": 424,
     "metadata": {},
     "output_type": "execute_result"
    },
    {
     "data": {
      "image/png": "[encoded data removed]",
      "text/plain": [
       "<Figure size 640x480 with 2 Axes>"
      ]
     },
     "metadata": {},
     "output_type": "display_data"
    }
   ],
   "source": [
    "corr = Germany.corr()\n",
    "\n",
    "sns.heatmap(corr)"
   ]
  },
  {
   "cell_type": "code",
   "execution_count": 425,
   "id": "778de5da",
   "metadata": {},
   "outputs": [
    {
     "data": {
      "text/html": [
       "<div>\n",
       "<style scoped>\n",
       "    .dataframe tbody tr th:only-of-type {\n",
       "        vertical-align: middle;\n",
       "    }\n",
       "\n",
       "    .dataframe tbody tr th {\n",
       "        vertical-align: top;\n",
       "    }\n",
       "\n",
       "    .dataframe thead th {\n",
       "        text-align: right;\n",
       "    }\n",
       "</style>\n",
       "<table border=\"1\" class=\"dataframe\">\n",
       "  <thead>\n",
       "    <tr style=\"text-align: right;\">\n",
       "      <th></th>\n",
       "      <th>Year</th>\n",
       "      <th>Barley</th>\n",
       "      <th>Wheat</th>\n",
       "      <th>Potatoes</th>\n",
       "    </tr>\n",
       "  </thead>\n",
       "  <tbody>\n",
       "    <tr>\n",
       "      <th>0</th>\n",
       "      <td>2010</td>\n",
       "      <td>7137</td>\n",
       "      <td>17579</td>\n",
       "      <td>9147</td>\n",
       "    </tr>\n",
       "    <tr>\n",
       "      <th>1</th>\n",
       "      <td>2011</td>\n",
       "      <td>8611</td>\n",
       "      <td>19386</td>\n",
       "      <td>8127</td>\n",
       "    </tr>\n",
       "    <tr>\n",
       "      <th>2</th>\n",
       "      <td>2012</td>\n",
       "      <td>9754</td>\n",
       "      <td>23486</td>\n",
       "      <td>10060</td>\n",
       "    </tr>\n",
       "    <tr>\n",
       "      <th>3</th>\n",
       "      <td>2013</td>\n",
       "      <td>8292</td>\n",
       "      <td>20262</td>\n",
       "      <td>8868</td>\n",
       "    </tr>\n",
       "    <tr>\n",
       "      <th>4</th>\n",
       "      <td>2014</td>\n",
       "      <td>7940</td>\n",
       "      <td>15450</td>\n",
       "      <td>5240</td>\n",
       "    </tr>\n",
       "  </tbody>\n",
       "</table>\n",
       "</div>"
      ],
      "text/plain": [
       "   Year  Barley  Wheat  Potatoes\n",
       "0  2010    7137  17579      9147\n",
       "1  2011    8611  19386      8127\n",
       "2  2012    9754  23486     10060\n",
       "3  2013    8292  20262      8868\n",
       "4  2014    7940  15450      5240"
      ]
     },
     "execution_count": 425,
     "metadata": {},
     "output_type": "execute_result"
    }
   ],
   "source": [
    "Luxembourg= pd.read_csv('Luxembourg_data.csv')\n",
    "Luxembourg.head()"
   ]
  },
  {
   "cell_type": "code",
   "execution_count": 426,
   "id": "c51b3c61",
   "metadata": {},
   "outputs": [
    {
     "name": "stdout",
     "output_type": "stream",
     "text": [
      "Columns in Data..:\n",
      " Index(['Year', 'Barley', 'Wheat', 'Potatoes'], dtype='object')\n"
     ]
    }
   ],
   "source": [
    "print(\"Columns in Data..:\\n\",Luxembourg.columns)"
   ]
  },
  {
   "cell_type": "code",
   "execution_count": 427,
   "id": "6235447d",
   "metadata": {},
   "outputs": [
    {
     "name": "stdout",
     "output_type": "stream",
     "text": [
      "Shape of Data..:\n",
      " (11, 4)\n"
     ]
    }
   ],
   "source": [
    "print(\"Shape of Data..:\\n\",Luxembourg.shape)"
   ]
  },
  {
   "cell_type": "code",
   "execution_count": 428,
   "id": "5b8d491b",
   "metadata": {},
   "outputs": [
    {
     "name": "stdout",
     "output_type": "stream",
     "text": [
      "Columns in Datas are Types..:\n",
      " Year        int64\n",
      "Barley      int64\n",
      "Wheat       int64\n",
      "Potatoes    int64\n",
      "dtype: object\n"
     ]
    }
   ],
   "source": [
    "print(\"Columns in Datas are Types..:\\n\",Luxembourg.dtypes)"
   ]
  },
  {
   "cell_type": "code",
   "execution_count": 429,
   "id": "e31574fa",
   "metadata": {},
   "outputs": [
    {
     "data": {
      "image/png": "[encoded data removed]",
      "text/plain": [
       "<Figure size 640x480 with 1 Axes>"
      ]
     },
     "metadata": {},
     "output_type": "display_data"
    }
   ],
   "source": [
    "sns.histplot(Luxembourg);"
   ]
  },
  {
   "cell_type": "code",
   "execution_count": 430,
   "id": "2537f109",
   "metadata": {},
   "outputs": [
    {
     "data": {
      "text/plain": [
       "<AxesSubplot:>"
      ]
     },
     "execution_count": 430,
     "metadata": {},
     "output_type": "execute_result"
    },
    {
     "data": {
      "image/png": "[encoded data removed]",
      "text/plain": [
       "<Figure size 640x480 with 1 Axes>"
      ]
     },
     "metadata": {},
     "output_type": "display_data"
    }
   ],
   "source": [
    "sns.boxplot(data = Luxembourg)"
   ]
  },
  {
   "cell_type": "code",
   "execution_count": 431,
   "id": "8ec3cd69",
   "metadata": {},
   "outputs": [
    {
     "data": {
      "text/plain": [
       "<AxesSubplot:>"
      ]
     },
     "execution_count": 431,
     "metadata": {},
     "output_type": "execute_result"
    },
    {
     "data": {
      "image/png": "[encoded data removed]",
      "text/plain": [
       "<Figure size 640x480 with 2 Axes>"
      ]
     },
     "metadata": {},
     "output_type": "display_data"
    }
   ],
   "source": [
    "corr = Luxembourg.corr()\n",
    "\n",
    "sns.heatmap(corr)"
   ]
  },
  {
   "cell_type": "code",
   "execution_count": 432,
   "id": "9bfe8b8c",
   "metadata": {},
   "outputs": [
    {
     "data": {
      "text/html": [
       "<div>\n",
       "<style scoped>\n",
       "    .dataframe tbody tr th:only-of-type {\n",
       "        vertical-align: middle;\n",
       "    }\n",
       "\n",
       "    .dataframe tbody tr th {\n",
       "        vertical-align: top;\n",
       "    }\n",
       "\n",
       "    .dataframe thead th {\n",
       "        text-align: right;\n",
       "    }\n",
       "</style>\n",
       "<table border=\"1\" class=\"dataframe\">\n",
       "  <thead>\n",
       "    <tr style=\"text-align: right;\">\n",
       "      <th></th>\n",
       "      <th>Year</th>\n",
       "      <th>Barley</th>\n",
       "      <th>Wheat</th>\n",
       "      <th>Potatoes</th>\n",
       "    </tr>\n",
       "  </thead>\n",
       "  <tbody>\n",
       "    <tr>\n",
       "      <th>0</th>\n",
       "      <td>2010</td>\n",
       "      <td>254794</td>\n",
       "      <td>140984</td>\n",
       "      <td>419600</td>\n",
       "    </tr>\n",
       "    <tr>\n",
       "      <th>1</th>\n",
       "      <td>2011</td>\n",
       "      <td>372922</td>\n",
       "      <td>211259</td>\n",
       "      <td>356100</td>\n",
       "    </tr>\n",
       "    <tr>\n",
       "      <th>2</th>\n",
       "      <td>2012</td>\n",
       "      <td>343886</td>\n",
       "      <td>200646</td>\n",
       "      <td>232000</td>\n",
       "    </tr>\n",
       "    <tr>\n",
       "      <th>3</th>\n",
       "      <td>2013</td>\n",
       "      <td>365145</td>\n",
       "      <td>113201</td>\n",
       "      <td>410100</td>\n",
       "    </tr>\n",
       "    <tr>\n",
       "      <th>4</th>\n",
       "      <td>2014</td>\n",
       "      <td>537874</td>\n",
       "      <td>187072</td>\n",
       "      <td>340257</td>\n",
       "    </tr>\n",
       "  </tbody>\n",
       "</table>\n",
       "</div>"
      ],
      "text/plain": [
       "   Year  Barley   Wheat  Potatoes\n",
       "0  2010  254794  140984    419600\n",
       "1  2011  372922  211259    356100\n",
       "2  2012  343886  200646    232000\n",
       "3  2013  365145  113201    410100\n",
       "4  2014  537874  187072    340257"
      ]
     },
     "execution_count": 432,
     "metadata": {},
     "output_type": "execute_result"
    }
   ],
   "source": [
    "Ireland= pd.read_csv('Ireland_data.csv')\n",
    "Ireland.head()"
   ]
  },
  {
   "cell_type": "code",
   "execution_count": 433,
   "id": "f90b7aa3",
   "metadata": {},
   "outputs": [
    {
     "name": "stdout",
     "output_type": "stream",
     "text": [
      "Columns in Data..:\n",
      " Index(['Year', 'Barley', 'Wheat', 'Potatoes'], dtype='object')\n"
     ]
    }
   ],
   "source": [
    "print(\"Columns in Data..:\\n\",Ireland.columns)"
   ]
  },
  {
   "cell_type": "code",
   "execution_count": 434,
   "id": "efbc9cae",
   "metadata": {},
   "outputs": [
    {
     "name": "stdout",
     "output_type": "stream",
     "text": [
      "Shape of Data..:\n",
      " (11, 4)\n"
     ]
    }
   ],
   "source": [
    "print(\"Shape of Data..:\\n\",Ireland.shape)"
   ]
  },
  {
   "cell_type": "code",
   "execution_count": 435,
   "id": "c0ee3f81",
   "metadata": {},
   "outputs": [
    {
     "name": "stdout",
     "output_type": "stream",
     "text": [
      "Columns in Datas are Types..:\n",
      " Year        int64\n",
      "Barley      int64\n",
      "Wheat       int64\n",
      "Potatoes    int64\n",
      "dtype: object\n"
     ]
    }
   ],
   "source": [
    "print(\"Columns in Datas are Types..:\\n\",Ireland.dtypes)"
   ]
  },
  {
   "cell_type": "code",
   "execution_count": 436,
   "id": "dfd1124a",
   "metadata": {},
   "outputs": [
    {
     "data": {
      "image/png": "[encoded data removed]",
      "text/plain": [
       "<Figure size 640x480 with 1 Axes>"
      ]
     },
     "metadata": {},
     "output_type": "display_data"
    }
   ],
   "source": [
    "sns.histplot(Ireland);"
   ]
  },
  {
   "cell_type": "code",
   "execution_count": 437,
   "id": "a677a7f1",
   "metadata": {},
   "outputs": [
    {
     "data": {
      "text/plain": [
       "<AxesSubplot:>"
      ]
     },
     "execution_count": 437,
     "metadata": {},
     "output_type": "execute_result"
    },
    {
     "data": {
      "image/png": "[encoded data removed]",
      "text/plain": [
       "<Figure size 640x480 with 1 Axes>"
      ]
     },
     "metadata": {},
     "output_type": "display_data"
    }
   ],
   "source": [
    "sns.boxplot(data = Ireland)"
   ]
  },
  {
   "cell_type": "code",
   "execution_count": 438,
   "id": "0c8aaad0",
   "metadata": {},
   "outputs": [
    {
     "data": {
      "text/plain": [
       "<AxesSubplot:>"
      ]
     },
     "execution_count": 438,
     "metadata": {},
     "output_type": "execute_result"
    },
    {
     "data": {
      "image/png": "[encoded data removed]",
      "text/plain": [
       "<Figure size 640x480 with 2 Axes>"
      ]
     },
     "metadata": {},
     "output_type": "display_data"
    }
   ],
   "source": [
    "corr = Ireland.corr()\n",
    "\n",
    "sns.heatmap(corr)"
   ]
  },
  {
   "cell_type": "markdown",
   "id": "c8d43186",
   "metadata": {},
   "source": [
    "#### T-test for to compare Ireland(Barley)-Germany(Barley) "
   ]
  },
  {
   "cell_type": "code",
   "execution_count": 439,
   "id": "4abd29be",
   "metadata": {},
   "outputs": [
    {
     "data": {
      "text/plain": [
       "Ttest_indResult(statistic=-13.410589064204617, pvalue=1.8625862726162457e-11)"
      ]
     },
     "execution_count": 439,
     "metadata": {},
     "output_type": "execute_result"
    }
   ],
   "source": [
    "stats.ttest_ind(a=Ireland['Barley'],b=Germany['Barley'], equal_var=True)"
   ]
  },
  {
   "cell_type": "markdown",
   "id": "3e97e716",
   "metadata": {},
   "source": [
    "#### T-test for to compare Ireland(Barley)-Luxembourg(Barley)"
   ]
  },
  {
   "cell_type": "code",
   "execution_count": 440,
   "id": "8df8d1ae",
   "metadata": {},
   "outputs": [
    {
     "data": {
      "text/plain": [
       "Ttest_indResult(statistic=14.102150714221876, pvalue=7.469067941347705e-12)"
      ]
     },
     "execution_count": 440,
     "metadata": {},
     "output_type": "execute_result"
    }
   ],
   "source": [
    "stats.ttest_ind(a=Ireland['Barley'],b=Luxembourg['Barley'], equal_var=True)"
   ]
  },
  {
   "cell_type": "markdown",
   "id": "09445029",
   "metadata": {},
   "source": [
    "#### T-test for to compare Ireland(Wheat)-Germany(Wheat)"
   ]
  },
  {
   "cell_type": "code",
   "execution_count": 441,
   "id": "515eff36",
   "metadata": {},
   "outputs": [
    {
     "data": {
      "text/plain": [
       "Ttest_indResult(statistic=-14.58358824623137, pvalue=4.039855325794968e-12)"
      ]
     },
     "execution_count": 441,
     "metadata": {},
     "output_type": "execute_result"
    }
   ],
   "source": [
    "stats.ttest_ind(a=Ireland['Wheat'],b=Germany['Wheat'], equal_var=True)"
   ]
  },
  {
   "cell_type": "markdown",
   "id": "9883e170",
   "metadata": {},
   "source": [
    "#### T-test for to compare Ireland(Wheat)-Luxembourg(Wheat)"
   ]
  },
  {
   "cell_type": "code",
   "execution_count": 442,
   "id": "522d8055",
   "metadata": {},
   "outputs": [
    {
     "data": {
      "text/plain": [
       "Ttest_indResult(statistic=8.217242794877963, pvalue=7.68650344090604e-08)"
      ]
     },
     "execution_count": 442,
     "metadata": {},
     "output_type": "execute_result"
    }
   ],
   "source": [
    "stats.ttest_ind(a=Ireland['Wheat'],b=Luxembourg['Wheat'], equal_var=True)"
   ]
  },
  {
   "cell_type": "markdown",
   "id": "e52840f4",
   "metadata": {},
   "source": [
    "#### T-test for to compare Germany(Barley)-Luxembourg(Barley)"
   ]
  },
  {
   "cell_type": "code",
   "execution_count": 443,
   "id": "6de83155",
   "metadata": {},
   "outputs": [
    {
     "data": {
      "text/plain": [
       "Ttest_indResult(statistic=17.376680347051913, pvalue=1.5525852790026173e-13)"
      ]
     },
     "execution_count": 443,
     "metadata": {},
     "output_type": "execute_result"
    }
   ],
   "source": [
    "stats.ttest_ind(a=Germany['Barley'],b=Luxembourg['Barley'], equal_var=True)"
   ]
  },
  {
   "cell_type": "markdown",
   "id": "3531b6b2",
   "metadata": {},
   "source": [
    "#### T-test for to compare Germany(Wheat)-Luxembourg(Wheat)"
   ]
  },
  {
   "cell_type": "code",
   "execution_count": 444,
   "id": "afc929bf",
   "metadata": {},
   "outputs": [
    {
     "data": {
      "text/plain": [
       "Ttest_indResult(statistic=14.936911457332549, pvalue=2.600967215140873e-12)"
      ]
     },
     "execution_count": 444,
     "metadata": {},
     "output_type": "execute_result"
    }
   ],
   "source": [
    "stats.ttest_ind(a=Germany['Wheat'],b=Luxembourg['Wheat'], equal_var=True)"
   ]
  },
  {
   "cell_type": "markdown",
   "id": "7300f362",
   "metadata": {},
   "source": [
    "#### T-test for to compare Germany(Potatoes)-Luxembourg(Potatoes)"
   ]
  },
  {
   "cell_type": "code",
   "execution_count": 445,
   "id": "1093bbf3",
   "metadata": {},
   "outputs": [
    {
     "data": {
      "text/plain": [
       "Ttest_indResult(statistic=13.047331132384837, pvalue=3.056838900131058e-11)"
      ]
     },
     "execution_count": 445,
     "metadata": {},
     "output_type": "execute_result"
    }
   ],
   "source": [
    "stats.ttest_ind(a=Germany['Potatoes'],b=Luxembourg['Potatoes'], equal_var=True)"
   ]
  },
  {
   "cell_type": "markdown",
   "id": "74b4c55f",
   "metadata": {},
   "source": [
    "### Wilcoxon Test"
   ]
  },
  {
   "cell_type": "markdown",
   "id": "eb1e7166",
   "metadata": {},
   "source": [
    "If we have  𝑛  datapoints, the ranks can go from 1 to  𝑛 . Some of these were positive differences, some were negative.\n",
    "\n",
    "In total there are  2𝑛  different ways these ranks could be split between the positive and negative differences.\n",
    "\n",
    "In each of these possible splits, we can then sum the ranks for the positive and the ranks for the negative differences separately."
   ]
  },
  {
   "cell_type": "markdown",
   "id": "acd0ff57",
   "metadata": {},
   "source": [
    "Wilcoxon Test for Ireland(Barley)-Germany(Barley)"
   ]
  },
  {
   "cell_type": "code",
   "execution_count": 446,
   "id": "4b3f2bd4",
   "metadata": {},
   "outputs": [
    {
     "data": {
      "text/plain": [
       "WilcoxonResult(statistic=0.0, pvalue=0.0009765625)"
      ]
     },
     "execution_count": 446,
     "metadata": {},
     "output_type": "execute_result"
    }
   ],
   "source": [
    "stats.wilcoxon(Ireland['Barley'], Germany['Barley'])"
   ]
  },
  {
   "cell_type": "markdown",
   "id": "8581ba43",
   "metadata": {},
   "source": [
    "Wilcoxon Test for Ireland(Wheat)-Germany(Wheat)"
   ]
  },
  {
   "cell_type": "code",
   "execution_count": 447,
   "id": "417413c7",
   "metadata": {},
   "outputs": [
    {
     "data": {
      "text/plain": [
       "WilcoxonResult(statistic=0.0, pvalue=0.0009765625)"
      ]
     },
     "execution_count": 447,
     "metadata": {},
     "output_type": "execute_result"
    }
   ],
   "source": [
    "stats.wilcoxon(Ireland['Wheat'], Germany['Wheat'])"
   ]
  },
  {
   "cell_type": "markdown",
   "id": "41cbea3e",
   "metadata": {},
   "source": [
    "Wilcoxon Test for Ireland(Potatoes)-Germany(Potatoes)"
   ]
  },
  {
   "cell_type": "code",
   "execution_count": 448,
   "id": "01fea640",
   "metadata": {},
   "outputs": [
    {
     "data": {
      "text/plain": [
       "WilcoxonResult(statistic=0.0, pvalue=0.0009765625)"
      ]
     },
     "execution_count": 448,
     "metadata": {},
     "output_type": "execute_result"
    }
   ],
   "source": [
    "stats.wilcoxon(Ireland['Potatoes'], Germany['Potatoes'])"
   ]
  },
  {
   "cell_type": "markdown",
   "id": "f70216f9",
   "metadata": {},
   "source": [
    "Wilcoxon Test for Germany(Barley)-Luxembourg(Barley)"
   ]
  },
  {
   "cell_type": "code",
   "execution_count": 449,
   "id": "9ecba3c8",
   "metadata": {},
   "outputs": [
    {
     "data": {
      "text/plain": [
       "WilcoxonResult(statistic=0.0, pvalue=0.0009765625)"
      ]
     },
     "execution_count": 449,
     "metadata": {},
     "output_type": "execute_result"
    }
   ],
   "source": [
    "stats.wilcoxon(Germany['Barley'], Luxembourg['Barley'])"
   ]
  },
  {
   "cell_type": "markdown",
   "id": "7b9af980",
   "metadata": {},
   "source": [
    "Wilcoxon Test for Germany(Wheat)-Luxembourg(Wheat)"
   ]
  },
  {
   "cell_type": "code",
   "execution_count": 450,
   "id": "5cb57579",
   "metadata": {},
   "outputs": [
    {
     "data": {
      "text/plain": [
       "WilcoxonResult(statistic=0.0, pvalue=0.0009765625)"
      ]
     },
     "execution_count": 450,
     "metadata": {},
     "output_type": "execute_result"
    }
   ],
   "source": [
    "stats.wilcoxon(Germany['Wheat'], Luxembourg['Wheat'])"
   ]
  },
  {
   "cell_type": "markdown",
   "id": "be011c90",
   "metadata": {},
   "source": [
    "Wilcoxon Test for Germany(Potatoes)-Luxembourg(Potatoes)"
   ]
  },
  {
   "cell_type": "code",
   "execution_count": 451,
   "id": "1a355130",
   "metadata": {},
   "outputs": [
    {
     "data": {
      "text/plain": [
       "WilcoxonResult(statistic=0.0, pvalue=0.0009765625)"
      ]
     },
     "execution_count": 451,
     "metadata": {},
     "output_type": "execute_result"
    }
   ],
   "source": [
    "stats.wilcoxon(Germany['Potatoes'], Luxembourg['Potatoes'])"
   ]
  },
  {
   "cell_type": "markdown",
   "id": "9b11fda8",
   "metadata": {},
   "source": [
    "Wilcoxon Test for Ireland(Barley)-Luxembourg(Barley)"
   ]
  },
  {
   "cell_type": "code",
   "execution_count": 452,
   "id": "2a8cccdc",
   "metadata": {},
   "outputs": [
    {
     "data": {
      "text/plain": [
       "WilcoxonResult(statistic=0.0, pvalue=0.0009765625)"
      ]
     },
     "execution_count": 452,
     "metadata": {},
     "output_type": "execute_result"
    }
   ],
   "source": [
    "stats.wilcoxon(Ireland['Potatoes'], Luxembourg['Potatoes'])"
   ]
  },
  {
   "cell_type": "code",
   "execution_count": 453,
   "id": "e4509bde",
   "metadata": {},
   "outputs": [
    {
     "data": {
      "text/plain": [
       "WilcoxonResult(statistic=0.0, pvalue=0.0009765625)"
      ]
     },
     "execution_count": 453,
     "metadata": {},
     "output_type": "execute_result"
    }
   ],
   "source": [
    "stats.wilcoxon(Ireland['Barley'], Luxembourg['Barley'])"
   ]
  },
  {
   "cell_type": "markdown",
   "id": "008e81c2",
   "metadata": {},
   "source": [
    "Wilcoxon Test for Ireland(Wheat)-Luxembourg(Wheat)"
   ]
  },
  {
   "cell_type": "code",
   "execution_count": 454,
   "id": "70cc3019",
   "metadata": {},
   "outputs": [
    {
     "data": {
      "text/plain": [
       "WilcoxonResult(statistic=0.0, pvalue=0.0009765625)"
      ]
     },
     "execution_count": 454,
     "metadata": {},
     "output_type": "execute_result"
    }
   ],
   "source": [
    "stats.wilcoxon(Ireland['Wheat'], Luxembourg['Wheat'])"
   ]
  },
  {
   "cell_type": "markdown",
   "id": "2a9572e1",
   "metadata": {},
   "source": [
    "Wilcoxon Test for Ireland(Potatoes)-Luxembourg(Potatoes)"
   ]
  },
  {
   "cell_type": "markdown",
   "id": "1f656971",
   "metadata": {},
   "source": [
    "## Z-Test"
   ]
  },
  {
   "cell_type": "markdown",
   "id": "c6874ea6",
   "metadata": {},
   "source": [
    "#### Z-Test for Ireland(Barley)-Germany(Barley)"
   ]
  },
  {
   "cell_type": "code",
   "execution_count": 455,
   "id": "22306d5a",
   "metadata": {},
   "outputs": [],
   "source": [
    "z_test, p_value = ztest(Ireland[\"Barley\"],Germany[\"Barley\"])"
   ]
  },
  {
   "cell_type": "code",
   "execution_count": 456,
   "id": "85c8ff12",
   "metadata": {},
   "outputs": [
    {
     "name": "stdout",
     "output_type": "stream",
     "text": [
      "z-test: -13.410589064204617 - p value: 5.242079070873298e-41\n"
     ]
    }
   ],
   "source": [
    "print(\"z-test:\", z_test , \"-\", \"p value:\", p_value)"
   ]
  },
  {
   "cell_type": "markdown",
   "id": "603b693f",
   "metadata": {},
   "source": [
    "#### Z-Test for Ireland(Wheat)-Germany(Wheat)"
   ]
  },
  {
   "cell_type": "code",
   "execution_count": 457,
   "id": "8d74a579",
   "metadata": {},
   "outputs": [],
   "source": [
    "z_test, p_value = ztest(Ireland[\"Wheat\"],Germany[\"Wheat\"])"
   ]
  },
  {
   "cell_type": "code",
   "execution_count": 458,
   "id": "e421bdb9",
   "metadata": {},
   "outputs": [
    {
     "name": "stdout",
     "output_type": "stream",
     "text": [
      "z-test: -14.58358824623137 - p value: 3.572356248035075e-48\n"
     ]
    }
   ],
   "source": [
    "print(\"z-test:\", z_test , \"-\", \"p value:\", p_value)"
   ]
  },
  {
   "cell_type": "markdown",
   "id": "bb848b9c",
   "metadata": {},
   "source": [
    "#### Z-Test for Ireland(Potatoes)-Germany(Potatoes)"
   ]
  },
  {
   "cell_type": "code",
   "execution_count": 459,
   "id": "805d1316",
   "metadata": {},
   "outputs": [],
   "source": [
    "z_test, p_value = ztest(Ireland[\"Potatoes\"],Germany[\"Potatoes\"])"
   ]
  },
  {
   "cell_type": "code",
   "execution_count": 460,
   "id": "7b8c8e1f",
   "metadata": {},
   "outputs": [
    {
     "name": "stdout",
     "output_type": "stream",
     "text": [
      "z-test: -11.103367537579865 - p value: 1.2080462977615694e-28\n"
     ]
    }
   ],
   "source": [
    "print(\"z-test:\", z_test , \"-\", \"p value:\", p_value)"
   ]
  },
  {
   "cell_type": "markdown",
   "id": "9c1ef752",
   "metadata": {},
   "source": [
    "#### Z-Test for Ireland(Barley)-Luxembourg(Barley)"
   ]
  },
  {
   "cell_type": "code",
   "execution_count": 461,
   "id": "69dcda22",
   "metadata": {},
   "outputs": [],
   "source": [
    "z_test, p_value = ztest(Ireland[\"Barley\"],Luxembourg[\"Barley\"])"
   ]
  },
  {
   "cell_type": "code",
   "execution_count": 462,
   "id": "6e0ee12a",
   "metadata": {},
   "outputs": [
    {
     "name": "stdout",
     "output_type": "stream",
     "text": [
      "z-test: 14.102150714221876 - p value: 3.6836954027479865e-45\n"
     ]
    }
   ],
   "source": [
    "print(\"z-test:\", z_test , \"-\", \"p value:\", p_value)"
   ]
  },
  {
   "cell_type": "markdown",
   "id": "fc447c28",
   "metadata": {},
   "source": [
    "#### Z-Test for Ireland(Wheat)-Luxembourg(Wheat)"
   ]
  },
  {
   "cell_type": "code",
   "execution_count": 463,
   "id": "e2db3dd2",
   "metadata": {},
   "outputs": [],
   "source": [
    "z_test, p_value = ztest(Ireland[\"Wheat\"],Luxembourg[\"Wheat\"])"
   ]
  },
  {
   "cell_type": "code",
   "execution_count": 464,
   "id": "da5b19c2",
   "metadata": {},
   "outputs": [
    {
     "name": "stdout",
     "output_type": "stream",
     "text": [
      "z-test: 8.217242794877963 - p value: 2.0823521343261577e-16\n"
     ]
    }
   ],
   "source": [
    "print(\"z-test:\", z_test , \"-\", \"p value:\", p_value)"
   ]
  },
  {
   "cell_type": "markdown",
   "id": "c69b8d12",
   "metadata": {},
   "source": [
    "#### Z-Test for Ireland(Potatoes)-Luxembourg(Potatoes)"
   ]
  },
  {
   "cell_type": "code",
   "execution_count": 465,
   "id": "5516f6e4",
   "metadata": {},
   "outputs": [],
   "source": [
    "z_test, p_value = ztest(Ireland[\"Potatoes\"],Luxembourg[\"Potatoes\"])"
   ]
  },
  {
   "cell_type": "code",
   "execution_count": 466,
   "id": "1e5431b4",
   "metadata": {},
   "outputs": [
    {
     "name": "stdout",
     "output_type": "stream",
     "text": [
      "z-test: 18.692155399273712 - p value: 5.734860041190219e-78\n"
     ]
    }
   ],
   "source": [
    "print(\"z-test:\", z_test , \"-\", \"p value:\", p_value)"
   ]
  },
  {
   "cell_type": "markdown",
   "id": "ed2fe19e",
   "metadata": {},
   "source": [
    "#### Z-Test for Germany(Barley)-Luxembourg(Barley)"
   ]
  },
  {
   "cell_type": "code",
   "execution_count": 467,
   "id": "bb26761e",
   "metadata": {},
   "outputs": [],
   "source": [
    "z_test, p_value = ztest(Germany[\"Barley\"],Luxembourg[\"Barley\"])"
   ]
  },
  {
   "cell_type": "code",
   "execution_count": 468,
   "id": "c03018ba",
   "metadata": {},
   "outputs": [
    {
     "name": "stdout",
     "output_type": "stream",
     "text": [
      "z-test: 17.376680347051913 - p value: 1.2392247767199418e-67\n"
     ]
    }
   ],
   "source": [
    "print(\"z-test:\", z_test , \"-\", \"p value:\", p_value)"
   ]
  },
  {
   "cell_type": "markdown",
   "id": "40863e31",
   "metadata": {},
   "source": [
    "#### Z-Test for Germany(Wheat)-Luxembourg(Wheat)"
   ]
  },
  {
   "cell_type": "code",
   "execution_count": 469,
   "id": "7b5bb883",
   "metadata": {},
   "outputs": [],
   "source": [
    "z_test, p_value = ztest(Germany[\"Wheat\"],Luxembourg[\"Wheat\"])"
   ]
  },
  {
   "cell_type": "code",
   "execution_count": 470,
   "id": "3e54d719",
   "metadata": {},
   "outputs": [
    {
     "name": "stdout",
     "output_type": "stream",
     "text": [
      "z-test: 14.936911457332549 - p value: 1.8955954389629974e-50\n"
     ]
    }
   ],
   "source": [
    "print(\"z-test:\", z_test , \"-\", \"p value:\", p_value)"
   ]
  },
  {
   "cell_type": "markdown",
   "id": "80fa36ff",
   "metadata": {},
   "source": [
    "#### Z-Test for Germany(Potatoes)-Luxembourg(Potatoes)"
   ]
  },
  {
   "cell_type": "code",
   "execution_count": 471,
   "id": "98ff3819",
   "metadata": {},
   "outputs": [],
   "source": [
    "z_test, p_value = ztest(Germany[\"Potatoes\"],Luxembourg[\"Potatoes\"])"
   ]
  },
  {
   "cell_type": "code",
   "execution_count": 472,
   "id": "2e0b24a1",
   "metadata": {},
   "outputs": [
    {
     "name": "stdout",
     "output_type": "stream",
     "text": [
      "z-test: 13.047331132384839 - p value: 6.581274335792339e-39\n"
     ]
    }
   ],
   "source": [
    "print(\"z-test:\", z_test , \"-\", \"p value:\", p_value)"
   ]
  },
  {
   "cell_type": "markdown",
   "id": "60788fcc",
   "metadata": {},
   "source": [
    "## Chi Square Test \n",
    "# ANOVA "
   ]
  },
  {
   "cell_type": "code",
   "execution_count": 473,
   "id": "574470c8",
   "metadata": {},
   "outputs": [],
   "source": [
    "from scipy.stats import chisquare\n",
    "from scipy.stats import f_oneway"
   ]
  },
  {
   "cell_type": "code",
   "execution_count": 474,
   "id": "0819a211",
   "metadata": {},
   "outputs": [
    {
     "name": "stdout",
     "output_type": "stream",
     "text": [
      "Statistics=179.844, p=0.000\n",
      "There is a significant difference between the median values ​​(H0 is rejected)\n"
     ]
    }
   ],
   "source": [
    "# Anova for Ireland-Germany\n",
    "stat, p = f_oneway(Ireland[\"Barley\"],Germany[\"Barley\"])\n",
    "\n",
    "# Let's print the test result\n",
    "print(\"Statistics=%.3f, p=%.3f\" % (stat, p))\n",
    "\n",
    "# Let's evaluate the p value\n",
    "alpha = 0.05\n",
    "if p > alpha:\n",
    "    print(\"No significant difference between median values ​​(H0 cannot be rejected)\")\n",
    "else:\n",
    "    print(\"There is a significant difference between the median values ​​(H0 is rejected)\")"
   ]
  },
  {
   "cell_type": "code",
   "execution_count": 475,
   "id": "95232124",
   "metadata": {},
   "outputs": [
    {
     "name": "stdout",
     "output_type": "stream",
     "text": [
      "Statistics=212.681, p=0.000\n",
      "There is a significant difference between the median values ​​(H0 is rejected)\n"
     ]
    }
   ],
   "source": [
    "# Anova for Ireland-Germany\n",
    "stat, p = f_oneway(Ireland[\"Wheat\"],Germany[\"Wheat\"])\n",
    "\n",
    "# Let's print the test result\n",
    "print(\"Statistics=%.3f, p=%.3f\" % (stat, p))\n",
    "\n",
    "# Let's evaluate the p value\n",
    "alpha = 0.05\n",
    "if p > alpha:\n",
    "    print(\"No significant difference between median values ​​(H0 cannot be rejected)\")\n",
    "else:\n",
    "    print(\"There is a significant difference between the median values ​​(H0 is rejected)\")"
   ]
  },
  {
   "cell_type": "code",
   "execution_count": 476,
   "id": "c0521bfe",
   "metadata": {},
   "outputs": [
    {
     "name": "stdout",
     "output_type": "stream",
     "text": [
      "Statistics=123.285, p=0.000\n",
      "There is a significant difference between the median values ​​(H0 is rejected)\n"
     ]
    }
   ],
   "source": [
    "# Anova for Ireland-Germany\n",
    "stat, p = f_oneway(Ireland[\"Potatoes\"],Germany[\"Potatoes\"])\n",
    "\n",
    "# Let's print the test result\n",
    "print(\"Statistics=%.3f, p=%.3f\" % (stat, p))\n",
    "\n",
    "# Let's evaluate the p value\n",
    "alpha = 0.05\n",
    "if p > alpha:\n",
    "    print(\"No significant difference between median values ​​(H0 cannot be rejected)\")\n",
    "else:\n",
    "    print(\"There is a significant difference between the median values ​​(H0 is rejected)\")"
   ]
  },
  {
   "cell_type": "code",
   "execution_count": 477,
   "id": "cbd90a3a",
   "metadata": {},
   "outputs": [
    {
     "name": "stdout",
     "output_type": "stream",
     "text": [
      "Statistics=198.871, p=0.000\n",
      "There is a significant difference between the median values ​​(H0 is rejected)\n"
     ]
    }
   ],
   "source": [
    "# Anova for Ireland-Luxembourg\n",
    "stat, p = f_oneway(Ireland[\"Barley\"],Luxembourg[\"Barley\"])\n",
    "\n",
    "# Let's print the test result\n",
    "print(\"Statistics=%.3f, p=%.3f\" % (stat, p))\n",
    "\n",
    "# Let's evaluate the p value\n",
    "alpha = 0.05\n",
    "if p > alpha:\n",
    "    print(\"No significant difference between median values ​​(H0 cannot be rejected)\")\n",
    "else:\n",
    "    print(\"There is a significant difference between the median values ​​(H0 is rejected)\")"
   ]
  },
  {
   "cell_type": "code",
   "execution_count": 478,
   "id": "f2d5c851",
   "metadata": {},
   "outputs": [
    {
     "name": "stdout",
     "output_type": "stream",
     "text": [
      "Statistics=67.523, p=0.000\n",
      "There is a significant difference between the median values ​​(H0 is rejected)\n"
     ]
    }
   ],
   "source": [
    "# Anova for Ireland-Luxembourg\n",
    "stat, p = f_oneway(Ireland[\"Wheat\"],Luxembourg[\"Wheat\"])\n",
    "\n",
    "# Let's print the test result\n",
    "print(\"Statistics=%.3f, p=%.3f\" % (stat, p))\n",
    "\n",
    "# Let's evaluate the p value\n",
    "alpha = 0.05\n",
    "if p > alpha:\n",
    "    print(\"No significant difference between median values ​​(H0 cannot be rejected)\")\n",
    "else:\n",
    "    print(\"There is a significant difference between the median values ​​(H0 is rejected)\")"
   ]
  },
  {
   "cell_type": "code",
   "execution_count": 479,
   "id": "c1e2e315",
   "metadata": {},
   "outputs": [
    {
     "name": "stdout",
     "output_type": "stream",
     "text": [
      "Statistics=349.397, p=0.000\n",
      "There is a significant difference between the median values ​​(H0 is rejected)\n"
     ]
    }
   ],
   "source": [
    "# Anova for Ireland-Luxembourg\n",
    "stat, p = f_oneway(Ireland[\"Potatoes\"],Luxembourg[\"Potatoes\"])\n",
    "\n",
    "# Let's print the test result\n",
    "print(\"Statistics=%.3f, p=%.3f\" % (stat, p))\n",
    "\n",
    "# Let's evaluate the p value\n",
    "alpha = 0.05\n",
    "if p > alpha:\n",
    "    print(\"No significant difference between median values ​​(H0 cannot be rejected)\")\n",
    "else:\n",
    "    print(\"There is a significant difference between the median values ​​(H0 is rejected)\")"
   ]
  },
  {
   "cell_type": "code",
   "execution_count": 480,
   "id": "47d0219d",
   "metadata": {},
   "outputs": [
    {
     "name": "stdout",
     "output_type": "stream",
     "text": [
      "Statistics=301.949, p=0.000\n",
      "There is a significant difference between the median values ​​(H0 is rejected)\n"
     ]
    }
   ],
   "source": [
    "# Anova for Germany-Luxembourg\n",
    "stat, p = f_oneway(Germany[\"Barley\"],Luxembourg[\"Barley\"])\n",
    "\n",
    "# Let's print the test result\n",
    "print(\"Statistics=%.3f, p=%.3f\" % (stat, p))\n",
    "\n",
    "# Let's evaluate the p value\n",
    "alpha = 0.05\n",
    "if p > alpha:\n",
    "    print(\"No significant difference between median values ​​(H0 cannot be rejected)\")\n",
    "else:\n",
    "    print(\"There is a significant difference between the median values ​​(H0 is rejected)\")"
   ]
  },
  {
   "cell_type": "code",
   "execution_count": 481,
   "id": "e4c1c599",
   "metadata": {},
   "outputs": [
    {
     "name": "stdout",
     "output_type": "stream",
     "text": [
      "Statistics=223.111, p=0.000\n",
      "There is a significant difference between the median values ​​(H0 is rejected)\n"
     ]
    }
   ],
   "source": [
    "# Anova for Germany-Luxembourg\n",
    "stat, p = f_oneway(Germany[\"Wheat\"],Luxembourg[\"Wheat\"])\n",
    "\n",
    "# Let's print the test result\n",
    "print(\"Statistics=%.3f, p=%.3f\" % (stat, p))\n",
    "\n",
    "# Let's evaluate the p value\n",
    "alpha = 0.05\n",
    "if p > alpha:\n",
    "    print(\"No significant difference between median values ​​(H0 cannot be rejected)\")\n",
    "else:\n",
    "    print(\"There is a significant difference between the median values ​​(H0 is rejected)\")"
   ]
  },
  {
   "cell_type": "code",
   "execution_count": 482,
   "id": "0c066ec6",
   "metadata": {},
   "outputs": [
    {
     "name": "stdout",
     "output_type": "stream",
     "text": [
      "Statistics=170.233, p=0.000\n",
      "There is a significant difference between the median values ​​(H0 is rejected)\n"
     ]
    }
   ],
   "source": [
    "# Anova for Germany-Luxembourg\n",
    "stat, p = f_oneway(Germany[\"Potatoes\"],Luxembourg[\"Potatoes\"])\n",
    "\n",
    "# Let's print the test result\n",
    "print(\"Statistics=%.3f, p=%.3f\" % (stat, p))\n",
    "\n",
    "# Let's evaluate the p value\n",
    "alpha = 0.05\n",
    "if p > alpha:\n",
    "    print(\"No significant difference between median values ​​(H0 cannot be rejected)\")\n",
    "else:\n",
    "    print(\"There is a significant difference between the median values ​​(H0 is rejected)\")"
   ]
  },
  {
   "cell_type": "code",
   "execution_count": 483,
   "id": "6ffa8c0c",
   "metadata": {},
   "outputs": [],
   "source": [
    "Land_data_value=Land_data.iloc[:,2:3]\n"
   ]
  },
  {
   "cell_type": "code",
   "execution_count": 484,
   "id": "f9b5affa",
   "metadata": {},
   "outputs": [],
   "source": [
    " Ld=pd.concat((FAOSTAT_data,Land_data_value), axis=1)\n",
    "    "
   ]
  },
  {
   "cell_type": "code",
   "execution_count": 485,
   "id": "bb38cd99",
   "metadata": {},
   "outputs": [
    {
     "data": {
      "text/html": [
       "<div>\n",
       "<style scoped>\n",
       "    .dataframe tbody tr th:only-of-type {\n",
       "        vertical-align: middle;\n",
       "    }\n",
       "\n",
       "    .dataframe tbody tr th {\n",
       "        vertical-align: top;\n",
       "    }\n",
       "\n",
       "    .dataframe thead th {\n",
       "        text-align: right;\n",
       "    }\n",
       "</style>\n",
       "<table border=\"1\" class=\"dataframe\">\n",
       "  <thead>\n",
       "    <tr style=\"text-align: right;\">\n",
       "      <th></th>\n",
       "      <th>Area</th>\n",
       "      <th>Year</th>\n",
       "      <th>Value</th>\n",
       "      <th>Area.1</th>\n",
       "      <th>Year.1</th>\n",
       "      <th>Value.1</th>\n",
       "      <th>Area.2</th>\n",
       "      <th>Year.2</th>\n",
       "      <th>Value.2</th>\n",
       "      <th>Hectares</th>\n",
       "    </tr>\n",
       "  </thead>\n",
       "  <tbody>\n",
       "    <tr>\n",
       "      <th>0</th>\n",
       "      <td>Germany</td>\n",
       "      <td>2010</td>\n",
       "      <td>1709755</td>\n",
       "      <td>Ireland</td>\n",
       "      <td>2010</td>\n",
       "      <td>254794</td>\n",
       "      <td>Luxembourg</td>\n",
       "      <td>2010</td>\n",
       "      <td>7137</td>\n",
       "      <td>16700</td>\n",
       "    </tr>\n",
       "    <tr>\n",
       "      <th>1</th>\n",
       "      <td>Germany</td>\n",
       "      <td>2011</td>\n",
       "      <td>2245973</td>\n",
       "      <td>Ireland</td>\n",
       "      <td>2011</td>\n",
       "      <td>372922</td>\n",
       "      <td>Luxembourg</td>\n",
       "      <td>2011</td>\n",
       "      <td>8611</td>\n",
       "      <td>16719</td>\n",
       "    </tr>\n",
       "    <tr>\n",
       "      <th>2</th>\n",
       "      <td>Germany</td>\n",
       "      <td>2012</td>\n",
       "      <td>2750363</td>\n",
       "      <td>Ireland</td>\n",
       "      <td>2012</td>\n",
       "      <td>343886</td>\n",
       "      <td>Luxembourg</td>\n",
       "      <td>2012</td>\n",
       "      <td>9754</td>\n",
       "      <td>16664</td>\n",
       "    </tr>\n",
       "    <tr>\n",
       "      <th>3</th>\n",
       "      <td>Germany</td>\n",
       "      <td>2013</td>\n",
       "      <td>2513116</td>\n",
       "      <td>Ireland</td>\n",
       "      <td>2013</td>\n",
       "      <td>365145</td>\n",
       "      <td>Luxembourg</td>\n",
       "      <td>2013</td>\n",
       "      <td>8292</td>\n",
       "      <td>16697</td>\n",
       "    </tr>\n",
       "    <tr>\n",
       "      <th>4</th>\n",
       "      <td>Germany</td>\n",
       "      <td>2014</td>\n",
       "      <td>2331890</td>\n",
       "      <td>Ireland</td>\n",
       "      <td>2014</td>\n",
       "      <td>537874</td>\n",
       "      <td>Luxembourg</td>\n",
       "      <td>2014</td>\n",
       "      <td>7940</td>\n",
       "      <td>16725</td>\n",
       "    </tr>\n",
       "    <tr>\n",
       "      <th>5</th>\n",
       "      <td>Germany</td>\n",
       "      <td>2015</td>\n",
       "      <td>1870174</td>\n",
       "      <td>Ireland</td>\n",
       "      <td>2015</td>\n",
       "      <td>352333</td>\n",
       "      <td>Luxembourg</td>\n",
       "      <td>2015</td>\n",
       "      <td>6994</td>\n",
       "      <td>16731</td>\n",
       "    </tr>\n",
       "    <tr>\n",
       "      <th>6</th>\n",
       "      <td>Germany</td>\n",
       "      <td>2016</td>\n",
       "      <td>1495623</td>\n",
       "      <td>Ireland</td>\n",
       "      <td>2016</td>\n",
       "      <td>375665</td>\n",
       "      <td>Luxembourg</td>\n",
       "      <td>2016</td>\n",
       "      <td>4249</td>\n",
       "      <td>16659</td>\n",
       "    </tr>\n",
       "    <tr>\n",
       "      <th>7</th>\n",
       "      <td>Germany</td>\n",
       "      <td>2017</td>\n",
       "      <td>1667490</td>\n",
       "      <td>Ireland</td>\n",
       "      <td>2017</td>\n",
       "      <td>506004</td>\n",
       "      <td>Luxembourg</td>\n",
       "      <td>2017</td>\n",
       "      <td>4943</td>\n",
       "      <td>16687</td>\n",
       "    </tr>\n",
       "    <tr>\n",
       "      <th>8</th>\n",
       "      <td>Germany</td>\n",
       "      <td>2018</td>\n",
       "      <td>1873095</td>\n",
       "      <td>Ireland</td>\n",
       "      <td>2018</td>\n",
       "      <td>446585</td>\n",
       "      <td>Luxembourg</td>\n",
       "      <td>2018</td>\n",
       "      <td>6344</td>\n",
       "      <td>16645</td>\n",
       "    </tr>\n",
       "    <tr>\n",
       "      <th>9</th>\n",
       "      <td>Germany</td>\n",
       "      <td>2019</td>\n",
       "      <td>2035995</td>\n",
       "      <td>Ireland</td>\n",
       "      <td>2019</td>\n",
       "      <td>564352</td>\n",
       "      <td>Luxembourg</td>\n",
       "      <td>2019</td>\n",
       "      <td>5376</td>\n",
       "      <td>16666</td>\n",
       "    </tr>\n",
       "    <tr>\n",
       "      <th>10</th>\n",
       "      <td>Germany</td>\n",
       "      <td>2020</td>\n",
       "      <td>1848525</td>\n",
       "      <td>Ireland</td>\n",
       "      <td>2020</td>\n",
       "      <td>502396</td>\n",
       "      <td>Luxembourg</td>\n",
       "      <td>2020</td>\n",
       "      <td>5359</td>\n",
       "      <td>16595</td>\n",
       "    </tr>\n",
       "  </tbody>\n",
       "</table>\n",
       "</div>"
      ],
      "text/plain": [
       "       Area  Year    Value   Area.1  Year.1  Value.1      Area.2  Year.2  \\\n",
       "0   Germany  2010  1709755  Ireland    2010   254794  Luxembourg    2010   \n",
       "1   Germany  2011  2245973  Ireland    2011   372922  Luxembourg    2011   \n",
       "2   Germany  2012  2750363  Ireland    2012   343886  Luxembourg    2012   \n",
       "3   Germany  2013  2513116  Ireland    2013   365145  Luxembourg    2013   \n",
       "4   Germany  2014  2331890  Ireland    2014   537874  Luxembourg    2014   \n",
       "5   Germany  2015  1870174  Ireland    2015   352333  Luxembourg    2015   \n",
       "6   Germany  2016  1495623  Ireland    2016   375665  Luxembourg    2016   \n",
       "7   Germany  2017  1667490  Ireland    2017   506004  Luxembourg    2017   \n",
       "8   Germany  2018  1873095  Ireland    2018   446585  Luxembourg    2018   \n",
       "9   Germany  2019  2035995  Ireland    2019   564352  Luxembourg    2019   \n",
       "10  Germany  2020  1848525  Ireland    2020   502396  Luxembourg    2020   \n",
       "\n",
       "    Value.2  Hectares  \n",
       "0      7137     16700  \n",
       "1      8611     16719  \n",
       "2      9754     16664  \n",
       "3      8292     16697  \n",
       "4      7940     16725  \n",
       "5      6994     16731  \n",
       "6      4249     16659  \n",
       "7      4943     16687  \n",
       "8      6344     16645  \n",
       "9      5376     16666  \n",
       "10     5359     16595  "
      ]
     },
     "execution_count": 485,
     "metadata": {},
     "output_type": "execute_result"
    }
   ],
   "source": [
    "Ld"
   ]
  },
  {
   "cell_type": "code",
   "execution_count": 486,
   "id": "3e95365b",
   "metadata": {},
   "outputs": [
    {
     "data": {
      "text/html": [
       "<div>\n",
       "<style scoped>\n",
       "    .dataframe tbody tr th:only-of-type {\n",
       "        vertical-align: middle;\n",
       "    }\n",
       "\n",
       "    .dataframe tbody tr th {\n",
       "        vertical-align: top;\n",
       "    }\n",
       "\n",
       "    .dataframe thead th {\n",
       "        text-align: right;\n",
       "    }\n",
       "</style>\n",
       "<table border=\"1\" class=\"dataframe\">\n",
       "  <thead>\n",
       "    <tr style=\"text-align: right;\">\n",
       "      <th></th>\n",
       "      <th>Area</th>\n",
       "      <th>Year</th>\n",
       "      <th>Value</th>\n",
       "      <th>Area.1</th>\n",
       "      <th>Year.1</th>\n",
       "      <th>Value.1</th>\n",
       "      <th>Area.2</th>\n",
       "      <th>Year.2</th>\n",
       "      <th>Value.2</th>\n",
       "      <th>Hectares</th>\n",
       "    </tr>\n",
       "  </thead>\n",
       "  <tbody>\n",
       "    <tr>\n",
       "      <th>0</th>\n",
       "      <td>Germany</td>\n",
       "      <td>2010</td>\n",
       "      <td>1709755</td>\n",
       "      <td>Ireland</td>\n",
       "      <td>2010</td>\n",
       "      <td>254794</td>\n",
       "      <td>Luxembourg</td>\n",
       "      <td>2010</td>\n",
       "      <td>7137</td>\n",
       "      <td>16700</td>\n",
       "    </tr>\n",
       "    <tr>\n",
       "      <th>1</th>\n",
       "      <td>Germany</td>\n",
       "      <td>2011</td>\n",
       "      <td>2245973</td>\n",
       "      <td>Ireland</td>\n",
       "      <td>2011</td>\n",
       "      <td>372922</td>\n",
       "      <td>Luxembourg</td>\n",
       "      <td>2011</td>\n",
       "      <td>8611</td>\n",
       "      <td>16719</td>\n",
       "    </tr>\n",
       "    <tr>\n",
       "      <th>2</th>\n",
       "      <td>Germany</td>\n",
       "      <td>2012</td>\n",
       "      <td>2750363</td>\n",
       "      <td>Ireland</td>\n",
       "      <td>2012</td>\n",
       "      <td>343886</td>\n",
       "      <td>Luxembourg</td>\n",
       "      <td>2012</td>\n",
       "      <td>9754</td>\n",
       "      <td>16664</td>\n",
       "    </tr>\n",
       "    <tr>\n",
       "      <th>3</th>\n",
       "      <td>Germany</td>\n",
       "      <td>2013</td>\n",
       "      <td>2513116</td>\n",
       "      <td>Ireland</td>\n",
       "      <td>2013</td>\n",
       "      <td>365145</td>\n",
       "      <td>Luxembourg</td>\n",
       "      <td>2013</td>\n",
       "      <td>8292</td>\n",
       "      <td>16697</td>\n",
       "    </tr>\n",
       "    <tr>\n",
       "      <th>4</th>\n",
       "      <td>Germany</td>\n",
       "      <td>2014</td>\n",
       "      <td>2331890</td>\n",
       "      <td>Ireland</td>\n",
       "      <td>2014</td>\n",
       "      <td>537874</td>\n",
       "      <td>Luxembourg</td>\n",
       "      <td>2014</td>\n",
       "      <td>7940</td>\n",
       "      <td>16725</td>\n",
       "    </tr>\n",
       "  </tbody>\n",
       "</table>\n",
       "</div>"
      ],
      "text/plain": [
       "      Area  Year    Value   Area.1  Year.1  Value.1      Area.2  Year.2  \\\n",
       "0  Germany  2010  1709755  Ireland    2010   254794  Luxembourg    2010   \n",
       "1  Germany  2011  2245973  Ireland    2011   372922  Luxembourg    2011   \n",
       "2  Germany  2012  2750363  Ireland    2012   343886  Luxembourg    2012   \n",
       "3  Germany  2013  2513116  Ireland    2013   365145  Luxembourg    2013   \n",
       "4  Germany  2014  2331890  Ireland    2014   537874  Luxembourg    2014   \n",
       "\n",
       "   Value.2  Hectares  \n",
       "0     7137     16700  \n",
       "1     8611     16719  \n",
       "2     9754     16664  \n",
       "3     8292     16697  \n",
       "4     7940     16725  "
      ]
     },
     "execution_count": 486,
     "metadata": {},
     "output_type": "execute_result"
    }
   ],
   "source": [
    "Ld.head()"
   ]
  },
  {
   "cell_type": "code",
   "execution_count": 487,
   "id": "9d566b1a",
   "metadata": {},
   "outputs": [],
   "source": [
    "list_germany=[Persons_Germany,Germany_hectares,FAO_Germany]\n",
    "df_Germany = pd.concat((list_germany),axis=1)\n",
    "list_ireland=[Persons_Ireland,Ireland_hectares,FAO_Ireland]\n",
    "df_Ireland = pd.concat((list_ireland),axis=1)\n",
    "list_luxembourg= [Persons_Luxembourg,Luxembourg_hectares,FAO_Luxembourg]\n",
    "df_Luxembourg = pd.concat((list_luxembourg),axis=1)"
   ]
  },
  {
   "cell_type": "code",
   "execution_count": 488,
   "id": "5122c784",
   "metadata": {},
   "outputs": [
    {
     "data": {
      "text/html": [
       "<div>\n",
       "<style scoped>\n",
       "    .dataframe tbody tr th:only-of-type {\n",
       "        vertical-align: middle;\n",
       "    }\n",
       "\n",
       "    .dataframe tbody tr th {\n",
       "        vertical-align: top;\n",
       "    }\n",
       "\n",
       "    .dataframe thead th {\n",
       "        text-align: right;\n",
       "    }\n",
       "</style>\n",
       "<table border=\"1\" class=\"dataframe\">\n",
       "  <thead>\n",
       "    <tr style=\"text-align: right;\">\n",
       "      <th></th>\n",
       "      <th>Persons(1000)</th>\n",
       "      <th>Hectares</th>\n",
       "      <th>Value</th>\n",
       "    </tr>\n",
       "  </thead>\n",
       "  <tbody>\n",
       "    <tr>\n",
       "      <th>0</th>\n",
       "      <td>81325.090</td>\n",
       "      <td>16700</td>\n",
       "      <td>1709755</td>\n",
       "    </tr>\n",
       "    <tr>\n",
       "      <th>1</th>\n",
       "      <td>81423.378</td>\n",
       "      <td>16719</td>\n",
       "      <td>2245973</td>\n",
       "    </tr>\n",
       "    <tr>\n",
       "      <th>2</th>\n",
       "      <td>81545.565</td>\n",
       "      <td>16664</td>\n",
       "      <td>2750363</td>\n",
       "    </tr>\n",
       "    <tr>\n",
       "      <th>3</th>\n",
       "      <td>81680.591</td>\n",
       "      <td>16697</td>\n",
       "      <td>2513116</td>\n",
       "    </tr>\n",
       "    <tr>\n",
       "      <th>4</th>\n",
       "      <td>81858.825</td>\n",
       "      <td>16725</td>\n",
       "      <td>2331890</td>\n",
       "    </tr>\n",
       "    <tr>\n",
       "      <th>5</th>\n",
       "      <td>82073.226</td>\n",
       "      <td>16731</td>\n",
       "      <td>1870174</td>\n",
       "    </tr>\n",
       "    <tr>\n",
       "      <th>6</th>\n",
       "      <td>82331.423</td>\n",
       "      <td>16659</td>\n",
       "      <td>1495623</td>\n",
       "    </tr>\n",
       "    <tr>\n",
       "      <th>7</th>\n",
       "      <td>82624.374</td>\n",
       "      <td>16687</td>\n",
       "      <td>1667490</td>\n",
       "    </tr>\n",
       "    <tr>\n",
       "      <th>8</th>\n",
       "      <td>82896.696</td>\n",
       "      <td>16645</td>\n",
       "      <td>1873095</td>\n",
       "    </tr>\n",
       "    <tr>\n",
       "      <th>9</th>\n",
       "      <td>83148.141</td>\n",
       "      <td>16666</td>\n",
       "      <td>2035995</td>\n",
       "    </tr>\n",
       "    <tr>\n",
       "      <th>10</th>\n",
       "      <td>83328.988</td>\n",
       "      <td>16595</td>\n",
       "      <td>1848525</td>\n",
       "    </tr>\n",
       "  </tbody>\n",
       "</table>\n",
       "</div>"
      ],
      "text/plain": [
       "    Persons(1000)  Hectares    Value\n",
       "0       81325.090     16700  1709755\n",
       "1       81423.378     16719  2245973\n",
       "2       81545.565     16664  2750363\n",
       "3       81680.591     16697  2513116\n",
       "4       81858.825     16725  2331890\n",
       "5       82073.226     16731  1870174\n",
       "6       82331.423     16659  1495623\n",
       "7       82624.374     16687  1667490\n",
       "8       82896.696     16645  1873095\n",
       "9       83148.141     16666  2035995\n",
       "10      83328.988     16595  1848525"
      ]
     },
     "execution_count": 488,
     "metadata": {},
     "output_type": "execute_result"
    }
   ],
   "source": [
    "df_Germany"
   ]
  },
  {
   "cell_type": "markdown",
   "id": "9e8c2f42",
   "metadata": {},
   "source": [
    "# Decision Tree"
   ]
  },
  {
   "cell_type": "code",
   "execution_count": 489,
   "id": "3c02842a",
   "metadata": {},
   "outputs": [],
   "source": [
    "# Germany\n",
    "X = df_Germany.iloc[:,0:2]\n",
    "y = df_Germany.iloc[:,2:3]\n",
    "X_train, X_test, y_train, y_test = train_test_split(X, y, test_size = 0.33, random_state = 0)"
   ]
  },
  {
   "cell_type": "code",
   "execution_count": 490,
   "id": "c817b8c2",
   "metadata": {},
   "outputs": [],
   "source": [
    "sc = StandardScaler()\n",
    "X_train = sc.fit_transform(X_train)\n",
    "X_test = sc.transform(X_test)"
   ]
  },
  {
   "cell_type": "code",
   "execution_count": 491,
   "id": "9ab1bb89",
   "metadata": {},
   "outputs": [
    {
     "data": {
      "text/plain": [
       "DecisionTreeClassifier(max_depth=3, random_state=42)"
      ]
     },
     "execution_count": 491,
     "metadata": {},
     "output_type": "execute_result"
    }
   ],
   "source": [
    "from sklearn.tree import DecisionTreeClassifier\n",
    "classifier = DecisionTreeClassifier(max_depth = 3, random_state = 42)\n",
    "classifier.fit(X_train, y_train)"
   ]
  },
  {
   "cell_type": "code",
   "execution_count": 492,
   "id": "9f7229dd",
   "metadata": {},
   "outputs": [],
   "source": [
    "y_pred = classifier.predict(X_test)"
   ]
  },
  {
   "cell_type": "code",
   "execution_count": 493,
   "id": "c8a6a2f5",
   "metadata": {},
   "outputs": [
    {
     "name": "stdout",
     "output_type": "stream",
     "text": [
      "              precision    recall  f1-score   support\n",
      "\n",
      "     1495623       0.00      0.00      0.00       0.0\n",
      "     1667490       0.00      0.00      0.00       0.0\n",
      "     1848525       0.00      0.00      0.00       1.0\n",
      "     1873095       0.00      0.00      0.00       0.0\n",
      "     2035995       0.00      0.00      0.00       1.0\n",
      "     2331890       0.00      0.00      0.00       1.0\n",
      "     2750363       0.00      0.00      0.00       1.0\n",
      "\n",
      "    accuracy                           0.00       4.0\n",
      "   macro avg       0.00      0.00      0.00       4.0\n",
      "weighted avg       0.00      0.00      0.00       4.0\n",
      "\n"
     ]
    },
    {
     "data": {
      "image/png": "[encoded data removed]",
      "text/plain": [
       "<Figure size 640x480 with 2 Axes>"
      ]
     },
     "metadata": {},
     "output_type": "display_data"
    }
   ],
   "source": [
    "# Calculate cm by calling a method named as 'confusion_matrix'\n",
    "cm = confusion_matrix(y_test, y_pred)\n",
    "\n",
    "# Call a method heatmap() to plot confusion matrix\n",
    "sns.heatmap(cm, annot = True)\n",
    "\n",
    "# print the classification_report based on y_test and y_predict\n",
    "print(classification_report(y_test, y_pred))"
   ]
  },
  {
   "cell_type": "code",
   "execution_count": 494,
   "id": "c02f71fa",
   "metadata": {},
   "outputs": [
    {
     "name": "stdout",
     "output_type": "stream",
     "text": [
      "Accuracy: 0.0\n"
     ]
    }
   ],
   "source": [
    "from sklearn import metrics                           \n",
    "warnings.filterwarnings('ignore') # We can suppress the warnings\n",
    "\n",
    "# Model Accuracy, how often is the classifier correct?\n",
    "print(\"Accuracy:\",metrics.accuracy_score(y_test, y_pred))"
   ]
  },
  {
   "cell_type": "code",
   "execution_count": 495,
   "id": "b2b7a962",
   "metadata": {},
   "outputs": [
    {
     "data": {
      "text/plain": [
       "[Text(0.3333333333333333, 0.875, 'X[0] <= -1.212\\ngini = 0.857\\nsamples = 7\\nvalue = [1, 1, 1, 1, 1, 1, 1]'),\n",
       " Text(0.16666666666666666, 0.625, 'gini = 0.0\\nsamples = 1\\nvalue = [0, 0, 1, 0, 0, 0, 0]'),\n",
       " Text(0.5, 0.625, 'X[1] <= -1.377\\ngini = 0.833\\nsamples = 6\\nvalue = [1, 1, 0, 1, 1, 1, 1]'),\n",
       " Text(0.3333333333333333, 0.375, 'gini = 0.0\\nsamples = 1\\nvalue = [0, 0, 0, 0, 1, 0, 0]'),\n",
       " Text(0.6666666666666666, 0.375, 'X[1] <= -0.638\\ngini = 0.8\\nsamples = 5\\nvalue = [1, 1, 0, 1, 0, 1, 1]'),\n",
       " Text(0.5, 0.125, 'gini = 0.0\\nsamples = 1\\nvalue = [1, 0, 0, 0, 0, 0, 0]'),\n",
       " Text(0.8333333333333334, 0.125, 'gini = 0.75\\nsamples = 4\\nvalue = [0, 1, 0, 1, 0, 1, 1]')]"
      ]
     },
     "execution_count": 495,
     "metadata": {},
     "output_type": "execute_result"
    },
    {
     "data": {
      "image/png": "[encoded data removed]",
      "text/plain": [
       "<Figure size 900x800 with 1 Axes>"
      ]
     },
     "metadata": {},
     "output_type": "display_data"
    }
   ],
   "source": [
    "import matplotlib.pyplot as plt\n",
    "\n",
    "plt.figure(figsize=(9,8))\n",
    "\n",
    "from sklearn import tree\n",
    "\n",
    "tree.plot_tree(classifier.fit(X_train, y_train)) "
   ]
  },
  {
   "cell_type": "markdown",
   "id": "6004fdc0",
   "metadata": {},
   "source": [
    "### Linear Regression for Germany"
   ]
  },
  {
   "cell_type": "code",
   "execution_count": 496,
   "id": "a1860e71",
   "metadata": {},
   "outputs": [
    {
     "name": "stdout",
     "output_type": "stream",
     "text": [
      "[[2011460.05996277]\n",
      " [1644524.04279015]\n",
      " [1962091.22155979]\n",
      " [1477721.44690713]]\n",
      "                                 OLS Regression Results                                \n",
      "=======================================================================================\n",
      "Dep. Variable:                  Value   R-squared (uncentered):                   0.974\n",
      "Model:                            OLS   Adj. R-squared (uncentered):              0.968\n",
      "Method:                 Least Squares   F-statistic:                              166.0\n",
      "Date:                Fri, 06 Jan 2023   Prob (F-statistic):                    7.89e-08\n",
      "Time:                        20:12:43   Log-Likelihood:                         -155.56\n",
      "No. Observations:                  11   AIC:                                      315.1\n",
      "Df Residuals:                       9   BIC:                                      315.9\n",
      "Df Model:                           2                                                  \n",
      "Covariance Type:            nonrobust                                                  \n",
      "=================================================================================\n",
      "                    coef    std err          t      P>|t|      [0.025      0.975]\n",
      "---------------------------------------------------------------------------------\n",
      "Persons(1000)  -182.5079    135.979     -1.342      0.212    -490.114     125.098\n",
      "Hectares       1021.1626    670.131      1.524      0.162    -494.780    2537.105\n",
      "==============================================================================\n",
      "Omnibus:                        0.136   Durbin-Watson:                   0.918\n",
      "Prob(Omnibus):                  0.934   Jarque-Bera (JB):                0.346\n",
      "Skew:                           0.045   Prob(JB):                        0.841\n",
      "Kurtosis:                       2.136   Cond. No.                         513.\n",
      "==============================================================================\n",
      "\n",
      "Notes:\n",
      "[1] R² is computed without centering (uncentered) since the model does not contain a constant.\n",
      "[2] Standard Errors assume that the covariance matrix of the errors is correctly specified.\n"
     ]
    }
   ],
   "source": [
    "# Linear Regression \n",
    "\n",
    "lr=LinearRegression()\n",
    "lr.fit(X_train,y_train)\n",
    "predict_LR= lr.predict(X_test)\n",
    "print(predict_LR)\n",
    "\n",
    "\n",
    "\n",
    "independent_val = sm.add_constant(X)\n",
    "model_linear = sm.OLS(y,X).fit()\n",
    "print(model_linear.summary())"
   ]
  },
  {
   "cell_type": "markdown",
   "id": "d938d6f3",
   "metadata": {},
   "source": [
    "### Decision Tree for Ireland"
   ]
  },
  {
   "cell_type": "code",
   "execution_count": 497,
   "id": "9aa80816",
   "metadata": {},
   "outputs": [],
   "source": [
    "# Ireland\n",
    "X = df_Ireland.iloc[:,0:2]\n",
    "y = df_Ireland.iloc[:,2:3]\n",
    "X_train, X_test, y_train, y_test = train_test_split(X, y, test_size = 0.33, random_state = 0)"
   ]
  },
  {
   "cell_type": "code",
   "execution_count": 498,
   "id": "333e36f4",
   "metadata": {},
   "outputs": [],
   "source": [
    "sc = StandardScaler()\n",
    "X_train = sc.fit_transform(X_train)\n",
    "X_test = sc.transform(X_test)"
   ]
  },
  {
   "cell_type": "code",
   "execution_count": 499,
   "id": "95f491d3",
   "metadata": {},
   "outputs": [
    {
     "data": {
      "text/plain": [
       "DecisionTreeClassifier(max_depth=3, random_state=42)"
      ]
     },
     "execution_count": 499,
     "metadata": {},
     "output_type": "execute_result"
    }
   ],
   "source": [
    "from sklearn.tree import DecisionTreeClassifier\n",
    "classifier = DecisionTreeClassifier(max_depth = 3, random_state = 42)\n",
    "classifier.fit(X_train, y_train)"
   ]
  },
  {
   "cell_type": "code",
   "execution_count": 500,
   "id": "a46119e6",
   "metadata": {},
   "outputs": [],
   "source": [
    "y_pred = classifier.predict(X_test)"
   ]
  },
  {
   "cell_type": "code",
   "execution_count": 501,
   "id": "d71fb4ee",
   "metadata": {},
   "outputs": [
    {
     "name": "stdout",
     "output_type": "stream",
     "text": [
      "              precision    recall  f1-score   support\n",
      "\n",
      "      343886       0.00      0.00      0.00       1.0\n",
      "      365145       0.00      0.00      0.00       0.0\n",
      "      375665       0.00      0.00      0.00       0.0\n",
      "      502396       0.00      0.00      0.00       1.0\n",
      "      537874       0.00      0.00      0.00       1.0\n",
      "      564352       0.00      0.00      0.00       1.0\n",
      "\n",
      "    accuracy                           0.00       4.0\n",
      "   macro avg       0.00      0.00      0.00       4.0\n",
      "weighted avg       0.00      0.00      0.00       4.0\n",
      "\n"
     ]
    },
    {
     "data": {
      "image/png": "[encoded data removed]",
      "text/plain": [
       "<Figure size 640x480 with 2 Axes>"
      ]
     },
     "metadata": {},
     "output_type": "display_data"
    }
   ],
   "source": [
    "# Calculate cm by calling a method named as 'confusion_matrix'\n",
    "cm = confusion_matrix(y_test, y_pred)\n",
    "\n",
    "# Call a method heatmap() to plot confusion matrix\n",
    "sns.heatmap(cm, annot = True)\n",
    "\n",
    "# print the classification_report based on y_test and y_predict\n",
    "print(classification_report(y_test, y_pred))"
   ]
  },
  {
   "cell_type": "code",
   "execution_count": 502,
   "id": "8b628a19",
   "metadata": {},
   "outputs": [
    {
     "name": "stdout",
     "output_type": "stream",
     "text": [
      "Accuracy: 0.0\n"
     ]
    }
   ],
   "source": [
    "from sklearn import metrics                           \n",
    "warnings.filterwarnings('ignore') # We can suppress the warnings\n",
    "\n",
    "# Model Accuracy, how often is the classifier correct?\n",
    "print(\"Accuracy:\",metrics.accuracy_score(y_test, y_pred))"
   ]
  },
  {
   "cell_type": "code",
   "execution_count": 503,
   "id": "1d18f5e8",
   "metadata": {},
   "outputs": [
    {
     "data": {
      "text/plain": [
       "[Text(0.3333333333333333, 0.875, 'X[0] <= -1.188\\ngini = 0.857\\nsamples = 7\\nvalue = [1, 1, 1, 1, 1, 1, 1]'),\n",
       " Text(0.16666666666666666, 0.625, 'gini = 0.0\\nsamples = 1\\nvalue = [1, 0, 0, 0, 0, 0, 0]'),\n",
       " Text(0.5, 0.625, 'X[1] <= -1.166\\ngini = 0.833\\nsamples = 6\\nvalue = [0, 1, 1, 1, 1, 1, 1]'),\n",
       " Text(0.3333333333333333, 0.375, 'gini = 0.0\\nsamples = 1\\nvalue = [0, 1, 0, 0, 0, 0, 0]'),\n",
       " Text(0.6666666666666666, 0.375, 'X[1] <= -0.658\\ngini = 0.8\\nsamples = 5\\nvalue = [0, 0, 1, 1, 1, 1, 1]'),\n",
       " Text(0.5, 0.125, 'gini = 0.0\\nsamples = 1\\nvalue = [0, 0, 0, 0, 1, 0, 0]'),\n",
       " Text(0.8333333333333334, 0.125, 'gini = 0.75\\nsamples = 4\\nvalue = [0, 0, 1, 1, 0, 1, 1]')]"
      ]
     },
     "execution_count": 503,
     "metadata": {},
     "output_type": "execute_result"
    },
    {
     "data": {
      "image/png": "[encoded data removed]",
      "text/plain": [
       "<Figure size 900x800 with 1 Axes>"
      ]
     },
     "metadata": {},
     "output_type": "display_data"
    }
   ],
   "source": [
    "import matplotlib.pyplot as plt\n",
    "\n",
    "plt.figure(figsize=(9,8))\n",
    "\n",
    "from sklearn import tree\n",
    "\n",
    "tree.plot_tree(classifier.fit(X_train, y_train)) "
   ]
  },
  {
   "cell_type": "markdown",
   "id": "04597b9e",
   "metadata": {},
   "source": [
    "### Linear Regresion for Ireland"
   ]
  },
  {
   "cell_type": "code",
   "execution_count": 504,
   "id": "0f52e1fe",
   "metadata": {},
   "outputs": [
    {
     "name": "stdout",
     "output_type": "stream",
     "text": [
      "[[355854.16099881]\n",
      " [512112.68735084]\n",
      " [330612.28279384]\n",
      " [538520.10892147]]\n",
      "                                 OLS Regression Results                                \n",
      "=======================================================================================\n",
      "Dep. Variable:                Value.1   R-squared (uncentered):                   0.978\n",
      "Model:                            OLS   Adj. R-squared (uncentered):              0.974\n",
      "Method:                 Least Squares   F-statistic:                              204.1\n",
      "Date:                Fri, 06 Jan 2023   Prob (F-statistic):                    3.18e-08\n",
      "Time:                        20:12:44   Log-Likelihood:                         -137.20\n",
      "No. Observations:                  11   AIC:                                      278.4\n",
      "Df Residuals:                       9   BIC:                                      279.2\n",
      "Df Model:                           2                                                  \n",
      "Covariance Type:            nonrobust                                                  \n",
      "===================================================================================\n",
      "                      coef    std err          t      P>|t|      [0.025      0.975]\n",
      "-----------------------------------------------------------------------------------\n",
      "Persons(1000).1   454.5005    138.834      3.274      0.010     140.437     768.564\n",
      "Hectares.1       -380.8471    144.901     -2.628      0.027    -708.635     -53.059\n",
      "==============================================================================\n",
      "Omnibus:                        1.700   Durbin-Watson:                   2.749\n",
      "Prob(Omnibus):                  0.427   Jarque-Bera (JB):                0.911\n",
      "Skew:                           0.684   Prob(JB):                        0.634\n",
      "Kurtosis:                       2.662   Cond. No.                         62.0\n",
      "==============================================================================\n",
      "\n",
      "Notes:\n",
      "[1] R² is computed without centering (uncentered) since the model does not contain a constant.\n",
      "[2] Standard Errors assume that the covariance matrix of the errors is correctly specified.\n"
     ]
    }
   ],
   "source": [
    "# Linear Regression \n",
    "lr=LinearRegression()\n",
    "lr.fit(X_train,y_train)\n",
    "predict_LR= lr.predict(X_test)\n",
    "print(predict_LR)\n",
    "\n",
    "\n",
    "\n",
    "independent_val = sm.add_constant(X)\n",
    "model_linear = sm.OLS(y,X).fit()\n",
    "print(model_linear.summary())"
   ]
  },
  {
   "cell_type": "markdown",
   "id": "6f10d500",
   "metadata": {},
   "source": [
    "### Decision Tree for Luxembourg"
   ]
  },
  {
   "cell_type": "code",
   "execution_count": 505,
   "id": "c2907f31",
   "metadata": {},
   "outputs": [],
   "source": [
    "# Luxembourg\n",
    "X = df_Luxembourg.iloc[:,0:2]\n",
    "y = df_Luxembourg.iloc[:,2:3]\n",
    "X_train, X_test, y_train, y_test = train_test_split(X, y, test_size = 0.33, random_state = 0)"
   ]
  },
  {
   "cell_type": "code",
   "execution_count": 506,
   "id": "d50f7b00",
   "metadata": {},
   "outputs": [],
   "source": [
    "sc = StandardScaler()\n",
    "X_train = sc.fit_transform(X_train)\n",
    "X_test = sc.transform(X_test)"
   ]
  },
  {
   "cell_type": "code",
   "execution_count": 507,
   "id": "3cc817dc",
   "metadata": {},
   "outputs": [
    {
     "data": {
      "text/plain": [
       "DecisionTreeClassifier(max_depth=3, random_state=42)"
      ]
     },
     "execution_count": 507,
     "metadata": {},
     "output_type": "execute_result"
    }
   ],
   "source": [
    "from sklearn.tree import DecisionTreeClassifier\n",
    "classifier = DecisionTreeClassifier(max_depth = 3, random_state = 42)\n",
    "classifier.fit(X_train, y_train)"
   ]
  },
  {
   "cell_type": "code",
   "execution_count": 508,
   "id": "dc57b667",
   "metadata": {},
   "outputs": [],
   "source": [
    "y_pred = classifier.predict(X_test)"
   ]
  },
  {
   "cell_type": "code",
   "execution_count": 509,
   "id": "78d6458f",
   "metadata": {},
   "outputs": [
    {
     "name": "stdout",
     "output_type": "stream",
     "text": [
      "              precision    recall  f1-score   support\n",
      "\n",
      "        4943       0.00      0.00      0.00       0.0\n",
      "        5359       0.00      0.00      0.00       1.0\n",
      "        5376       0.00      0.00      0.00       1.0\n",
      "        7940       0.00      0.00      0.00       1.0\n",
      "        8292       0.00      0.00      0.00       0.0\n",
      "        9754       0.00      0.00      0.00       1.0\n",
      "\n",
      "    accuracy                           0.00       4.0\n",
      "   macro avg       0.00      0.00      0.00       4.0\n",
      "weighted avg       0.00      0.00      0.00       4.0\n",
      "\n"
     ]
    },
    {
     "data": {
      "image/png": "[encoded data removed]",
      "text/plain": [
       "<Figure size 640x480 with 2 Axes>"
      ]
     },
     "metadata": {},
     "output_type": "display_data"
    }
   ],
   "source": [
    "# Calculate cm by calling a method named as 'confusion_matrix'\n",
    "cm = confusion_matrix(y_test, y_pred)\n",
    "\n",
    "# Call a method heatmap() to plot confusion matrix\n",
    "sns.heatmap(cm, annot = True)\n",
    "\n",
    "# print the classification_report based on y_test and y_predict\n",
    "print(classification_report(y_test, y_pred))"
   ]
  },
  {
   "cell_type": "code",
   "execution_count": 510,
   "id": "a0dae9fa",
   "metadata": {},
   "outputs": [
    {
     "name": "stdout",
     "output_type": "stream",
     "text": [
      "Accuracy: 0.0\n"
     ]
    }
   ],
   "source": [
    "from sklearn import metrics                           \n",
    "warnings.filterwarnings('ignore') # We can suppress the warnings\n",
    "\n",
    "# Model Accuracy, how often is the classifier correct?\n",
    "print(\"Accuracy:\",metrics.accuracy_score(y_test, y_pred))"
   ]
  },
  {
   "cell_type": "code",
   "execution_count": 511,
   "id": "286033fc",
   "metadata": {},
   "outputs": [
    {
     "data": {
      "text/plain": [
       "[Text(0.3333333333333333, 0.875, 'X[0] <= -1.336\\ngini = 0.857\\nsamples = 7\\nvalue = [1, 1, 1, 1, 1, 1, 1]'),\n",
       " Text(0.16666666666666666, 0.625, 'gini = 0.0\\nsamples = 1\\nvalue = [0, 0, 0, 0, 1, 0, 0]'),\n",
       " Text(0.5, 0.625, 'X[1] <= -1.291\\ngini = 0.833\\nsamples = 6\\nvalue = [1, 1, 1, 1, 0, 1, 1]'),\n",
       " Text(0.3333333333333333, 0.375, 'gini = 0.0\\nsamples = 1\\nvalue = [1, 0, 0, 0, 0, 0, 0]'),\n",
       " Text(0.6666666666666666, 0.375, 'X[1] <= -0.363\\ngini = 0.8\\nsamples = 5\\nvalue = [0, 1, 1, 1, 0, 1, 1]'),\n",
       " Text(0.5, 0.125, 'gini = 0.0\\nsamples = 1\\nvalue = [0, 0, 0, 0, 0, 1, 0]'),\n",
       " Text(0.8333333333333334, 0.125, 'gini = 0.75\\nsamples = 4\\nvalue = [0, 1, 1, 1, 0, 0, 1]')]"
      ]
     },
     "execution_count": 511,
     "metadata": {},
     "output_type": "execute_result"
    },
    {
     "data": {
      "image/png": "[encoded data removed]",
      "text/plain": [
       "<Figure size 900x800 with 1 Axes>"
      ]
     },
     "metadata": {},
     "output_type": "display_data"
    }
   ],
   "source": [
    "import matplotlib.pyplot as plt\n",
    "\n",
    "plt.figure(figsize=(9,8))\n",
    "\n",
    "from sklearn import tree\n",
    "\n",
    "tree.plot_tree(classifier.fit(X_train, y_train)) "
   ]
  },
  {
   "cell_type": "markdown",
   "id": "f5c087de",
   "metadata": {},
   "source": [
    "### Linear Regresion for Luxembourg"
   ]
  },
  {
   "cell_type": "code",
   "execution_count": 512,
   "id": "ef7923eb",
   "metadata": {},
   "outputs": [
    {
     "name": "stdout",
     "output_type": "stream",
     "text": [
      "[[6481.38080775]\n",
      " [5886.68827007]\n",
      " [8431.83058718]\n",
      " [6929.48347502]]\n",
      "                                 OLS Regression Results                                \n",
      "=======================================================================================\n",
      "Dep. Variable:                Value.2   R-squared (uncentered):                   0.978\n",
      "Model:                            OLS   Adj. R-squared (uncentered):              0.973\n",
      "Method:                 Least Squares   F-statistic:                              195.8\n",
      "Date:                Fri, 06 Jan 2023   Prob (F-statistic):                    3.82e-08\n",
      "Time:                        20:12:44   Log-Likelihood:                         -92.147\n",
      "No. Observations:                  11   AIC:                                      188.3\n",
      "Df Residuals:                       9   BIC:                                      189.1\n",
      "Df Model:                           2                                                  \n",
      "Covariance Type:            nonrobust                                                  \n",
      "===================================================================================\n",
      "                      coef    std err          t      P>|t|      [0.025      0.975]\n",
      "-----------------------------------------------------------------------------------\n",
      "Persons(1000).2   -32.5921      8.968     -3.634      0.005     -52.880     -12.304\n",
      "Hectares.2        193.2990     38.990      4.958      0.001     105.097     281.502\n",
      "==============================================================================\n",
      "Omnibus:                        1.224   Durbin-Watson:                   1.297\n",
      "Prob(Omnibus):                  0.542   Jarque-Bera (JB):                0.838\n",
      "Skew:                          -0.609   Prob(JB):                        0.658\n",
      "Kurtosis:                       2.415   Cond. No.                         66.8\n",
      "==============================================================================\n",
      "\n",
      "Notes:\n",
      "[1] R² is computed without centering (uncentered) since the model does not contain a constant.\n",
      "[2] Standard Errors assume that the covariance matrix of the errors is correctly specified.\n"
     ]
    }
   ],
   "source": [
    "# Linear Regression \n",
    "\n",
    "lr=LinearRegression()\n",
    "lr.fit(X_train,y_train)\n",
    "predict_LR= lr.predict(X_test)\n",
    "print(predict_LR)\n",
    "\n",
    "\n",
    "\n",
    "independent_val = sm.add_constant(X)\n",
    "model_linear = sm.OLS(y,X).fit()\n",
    "print(model_linear.summary())"
   ]
  }
 ],
 "metadata": {
  "kernelspec": {
   "display_name": "Python 3 (ipykernel)",
   "language": "python",
   "name": "python3"
  },
  "language_info": {
   "codemirror_mode": {
    "name": "ipython",
    "version": 3
   },
   "file_extension": ".py",
   "mimetype": "text/x-python",
   "name": "python",
   "nbconvert_exporter": "python",
   "pygments_lexer": "ipython3",
   "version": "3.9.12"
  }
 },
 "nbformat": 4,
 "nbformat_minor": 5
}
